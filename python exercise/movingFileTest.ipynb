{
 "cells": [
  {
   "cell_type": "code",
   "execution_count": 9,
   "metadata": {},
   "outputs": [
    {
     "ename": "SyntaxError",
     "evalue": "unexpected EOF while parsing (<ipython-input-9-0ba7a4b50fe4>, line 6)",
     "output_type": "error",
     "traceback": [
      "\u001b[1;36m  File \u001b[1;32m\"<ipython-input-9-0ba7a4b50fe4>\"\u001b[1;36m, line \u001b[1;32m6\u001b[0m\n\u001b[1;33m    # 복사해서 붙여넣는다.\u001b[0m\n\u001b[1;37m                 ^\u001b[0m\n\u001b[1;31mSyntaxError\u001b[0m\u001b[1;31m:\u001b[0m unexpected EOF while parsing\n"
     ]
    }
   ],
   "source": [
    "for start in range(1,66,5):\n",
    "    # 폴더를 생성한다.\n",
    "    for idx in range(5):\n",
    "        # 혹시나 해당하는 파일이 있으면\n",
    "\n",
    "        # 복사해서 붙여넣는다."
   ]
  },
  {
   "cell_type": "code",
   "execution_count": null,
   "metadata": {},
   "outputs": [],
   "source": [
    "directory = \"강성태 영어회화 DAY{}-DAY{}\""
   ]
  },
  {
   "cell_type": "code",
   "execution_count": null,
   "metadata": {},
   "outputs": [
    {
     "data": {
      "text/plain": [
       "'강성태 영어회화 DAY1-DAY2'"
      ]
     },
     "execution_count": 4,
     "metadata": {},
     "output_type": "execute_result"
    }
   ],
   "source": [
    "directory.format(1,2)"
   ]
  },
  {
   "cell_type": "code",
   "execution_count": 10,
   "metadata": {},
   "outputs": [],
   "source": [
    "import pathlib\n",
    "path = pathlib.PureWindowsPath(r'C:\\\\Users\\\\like_\\\\OneDrive\\\\storage\\\\english\\\\강성태 66일 영어회화\\drive-download-20220319T134759Z-001\\「강성태 66일 영어회화」원어민 mp3')"
   ]
  },
  {
   "cell_type": "code",
   "execution_count": 12,
   "metadata": {},
   "outputs": [
    {
     "name": "stdout",
     "output_type": "stream",
     "text": [
      "Day1_E_Dialogue.mp3\n",
      "Day1_E_Pattern.mp3\n"
     ]
    }
   ],
   "source": [
    "import glob, os\n",
    "os.chdir(path)\n",
    "for file in glob.glob(\"Day1_E*\"):\n",
    "    print(file)"
   ]
  },
  {
   "cell_type": "code",
   "execution_count": 15,
   "metadata": {},
   "outputs": [
    {
     "ename": "SyntaxError",
     "evalue": "(unicode error) 'unicodeescape' codec can't decode bytes in position 2-3: truncated \\UXXXXXXXX escape (<ipython-input-15-60e8ee84aebe>, line 1)",
     "output_type": "error",
     "traceback": [
      "\u001b[1;36m  File \u001b[1;32m\"<ipython-input-15-60e8ee84aebe>\"\u001b[1;36m, line \u001b[1;32m1\u001b[0m\n\u001b[1;33m    \"C:\\Users\\like_\\OneDrive\\storage\\english\\강성태 66일 영어회화\\drive-download-20220319T134759Z-001\\「강성태 66일 영어회화」원어민 mp3\".replace(\"\\\\\",\"\\/\")\u001b[0m\n\u001b[1;37m    ^\u001b[0m\n\u001b[1;31mSyntaxError\u001b[0m\u001b[1;31m:\u001b[0m (unicode error) 'unicodeescape' codec can't decode bytes in position 2-3: truncated \\UXXXXXXXX escape\n"
     ]
    }
   ],
   "source": [
    "\"C:\\Users\\like_\\OneDrive\\storage\\english\\강성태 66일 영어회화\\drive-download-20220319T134759Z-001\\「강성태 66일 영어회화」원어민 mp3\".replace(\"\\\\\",\"\\/\")"
   ]
  },
  {
   "cell_type": "code",
   "execution_count": 7,
   "metadata": {},
   "outputs": [
    {
     "data": {
      "text/plain": [
       "'C:\\\\Users\\\\like_\\\\OneDrive\\\\storage\\\\english\\\\강성태 66일 영어회화\\\\drive-download-20220319T134759Z-001\\\\「강성태 66일 영어회화」원어민 mp3'"
      ]
     },
     "execution_count": 7,
     "metadata": {},
     "output_type": "execute_result"
    }
   ],
   "source": [
    "str(p)"
   ]
  },
  {
   "cell_type": "code",
   "execution_count": null,
   "metadata": {},
   "outputs": [],
   "source": []
  }
 ],
 "metadata": {
  "interpreter": {
   "hash": "b3ba2566441a7c06988d0923437866b63cedc61552a5af99d1f4fb67d367b25f"
  },
  "kernelspec": {
   "display_name": "Python 3.8.8 ('base')",
   "language": "python",
   "name": "python3"
  },
  "language_info": {
   "codemirror_mode": {
    "name": "ipython",
    "version": 3
   },
   "file_extension": ".py",
   "mimetype": "text/x-python",
   "name": "python",
   "nbconvert_exporter": "python",
   "pygments_lexer": "ipython3",
   "version": "3.8.8"
  },
  "orig_nbformat": 4
 },
 "nbformat": 4,
 "nbformat_minor": 2
}
