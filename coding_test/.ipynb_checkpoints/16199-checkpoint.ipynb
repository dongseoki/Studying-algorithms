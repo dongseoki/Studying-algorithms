{
 "cells": [
  {
   "cell_type": "code",
   "execution_count": 35,
   "id": "9d789304",
   "metadata": {},
   "outputs": [
    {
     "name": "stdout",
     "output_type": "stream",
     "text": [
      "2006 1 1\n",
      "2007 1 1\n"
     ]
    }
   ],
   "source": [
    "bday = list(map(int, input().split()))\n",
    "cday = list(map(int, input().split()))\n",
    "def makeConvertMD(month, day):\n",
    "    if 1<=day<=9 : \n",
    "        b_convertMD = int(str(month)+'0'+str(day))\n",
    "    else :\n",
    "        b_convertMD = int(str(month)+str(day))\n",
    "    return b_convertMD\n",
    "\n",
    "b_convertMD = makeConvertMD(bday[1],bday[2])\n",
    "c_convertMD = makeConvertMD(cday[1],cday[2])\n",
    "\n",
    "if c_convertMD-b_convertMD <0:\n",
    "    man = cday[0]-bday[0] -1\n",
    "else : \n",
    "    man = cday[0]-bday[0]\n",
    "    \n",
    "sei = cday[0]-bday[0] +1\n",
    "\n",
    "yun = cday[0]-bday[0]\n",
    "print(man)\n",
    "print(sei)\n",
    "print(yun)"
   ]
  },
  {
   "cell_type": "code",
   "execution_count": null,
   "id": "1cd01093",
   "metadata": {},
   "outputs": [],
   "source": []
  }
 ],
 "metadata": {
  "kernelspec": {
   "display_name": "Python 3",
   "language": "python",
   "name": "python3"
  },
  "language_info": {
   "codemirror_mode": {
    "name": "ipython",
    "version": 3
   },
   "file_extension": ".py",
   "mimetype": "text/x-python",
   "name": "python",
   "nbconvert_exporter": "python",
   "pygments_lexer": "ipython3",
   "version": "3.8.8"
  }
 },
 "nbformat": 4,
 "nbformat_minor": 5
}
