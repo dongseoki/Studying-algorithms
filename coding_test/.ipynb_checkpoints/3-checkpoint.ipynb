{
 "cells": [
  {
   "cell_type": "code",
   "execution_count": 1,
   "id": "2939be32",
   "metadata": {},
   "outputs": [],
   "source": [
    "def solution(fees, records):\n",
    "    answer = []\n",
    "    return answer"
   ]
  },
  {
   "cell_type": "code",
   "execution_count": 2,
   "id": "eea9c333",
   "metadata": {},
   "outputs": [],
   "source": [
    "fees = [180, 5000, 10, 600]\n",
    "records = [\"05:34 5961 IN\", \"06:00 0000 IN\", \"06:34 0000 OUT\", \"07:59 5961 OUT\", \"07:59 0148 IN\", \"18:59 0000 IN\", \"19:09 0148 OUT\", \"22:59 5961 IN\", \"23:00 5961 OUT\"]"
   ]
  },
  {
   "cell_type": "code",
   "execution_count": 3,
   "id": "763eee46",
   "metadata": {},
   "outputs": [
    {
     "data": {
      "text/plain": [
       "[180, 5000, 10, 600]"
      ]
     },
     "execution_count": 3,
     "metadata": {},
     "output_type": "execute_result"
    }
   ],
   "source": [
    "fees"
   ]
  },
  {
   "cell_type": "code",
   "execution_count": 4,
   "id": "44647091",
   "metadata": {},
   "outputs": [
    {
     "data": {
      "text/plain": [
       "['05:34 5961 IN',\n",
       " '06:00 0000 IN',\n",
       " '06:34 0000 OUT',\n",
       " '07:59 5961 OUT',\n",
       " '07:59 0148 IN',\n",
       " '18:59 0000 IN',\n",
       " '19:09 0148 OUT',\n",
       " '22:59 5961 IN',\n",
       " '23:00 5961 OUT']"
      ]
     },
     "execution_count": 4,
     "metadata": {},
     "output_type": "execute_result"
    }
   ],
   "source": [
    "records"
   ]
  },
  {
   "cell_type": "code",
   "execution_count": 5,
   "id": "bef28011",
   "metadata": {},
   "outputs": [],
   "source": [
    "reConstructDict={}\n",
    "for record in records:\n",
    "    itemList = record.split(' ')\n",
    "    reConstructDict[itemList[1]] = []"
   ]
  },
  {
   "cell_type": "code",
   "execution_count": 7,
   "id": "55578ea2",
   "metadata": {},
   "outputs": [],
   "source": [
    "\n",
    "for record in records:\n",
    "    itemList = record.split(' ')\n",
    "    reConstructDict[itemList[1]].append([itemList[0], itemList[2]])"
   ]
  },
  {
   "cell_type": "code",
   "execution_count": 23,
   "id": "6a3af5e6",
   "metadata": {},
   "outputs": [],
   "source": [
    "baseTime = fees[0]\n",
    "baseFee = fees[1]\n",
    "unitTime = fees[2]\n",
    "unitFee = fees[3]"
   ]
  },
  {
   "cell_type": "code",
   "execution_count": 24,
   "id": "d27c5fc1",
   "metadata": {},
   "outputs": [
    {
     "name": "stdout",
     "output_type": "stream",
     "text": [
      "180 5000 10 600\n"
     ]
    }
   ],
   "source": [
    "print(baseTime, baseFee, unitTime, unitFee)"
   ]
  },
  {
   "cell_type": "code",
   "execution_count": 15,
   "id": "8bde8643",
   "metadata": {
    "scrolled": true
   },
   "outputs": [
    {
     "data": {
      "text/plain": [
       "{'5961': [['05:34', 'IN'],\n",
       "  ['07:59', 'OUT'],\n",
       "  ['22:59', 'IN'],\n",
       "  ['23:00', 'OUT']],\n",
       " '0000': [['06:00', 'IN'],\n",
       "  ['06:34', 'OUT'],\n",
       "  ['18:59', 'IN'],\n",
       "  ['23:59', 'OUT']],\n",
       " '0148': [['07:59', 'IN'], ['19:09', 'OUT']]}"
      ]
     },
     "execution_count": 15,
     "metadata": {},
     "output_type": "execute_result"
    }
   ],
   "source": [
    "reConstructDict"
   ]
  },
  {
   "cell_type": "code",
   "execution_count": 35,
   "id": "cb32736c",
   "metadata": {},
   "outputs": [],
   "source": [
    "keyList = list(reConstructDict.keys())\n",
    "keyList.sort()\n",
    "for key in keyList:\n",
    "    inOutList = reConstructDict[key]\n",
    "    if inOutList[-1][1] == 'IN':\n",
    "        reConstructDict[key].append(['23:59', 'OUT'])"
   ]
  },
  {
   "cell_type": "code",
   "execution_count": 37,
   "id": "03d894e4",
   "metadata": {},
   "outputs": [
    {
     "name": "stdout",
     "output_type": "stream",
     "text": [
      "0000 14600\n",
      "0148 34400\n",
      "5961 5000\n"
     ]
    }
   ],
   "source": [
    "for key in keyList:\n",
    "    inOutList = reConstructDict[key]\n",
    "    totalTime = makeTotalTime(inOutList)\n",
    "    if totalTime>baseTime:\n",
    "        totalFee = baseFee + math.ceil((totalTime - baseTime) / unitTime) * unitFee\n",
    "    else : \n",
    "        totalFee = 5000\n",
    "    print(key, totalFee)"
   ]
  },
  {
   "cell_type": "code",
   "execution_count": 32,
   "id": "6a02246a",
   "metadata": {},
   "outputs": [],
   "source": [
    "testList = list(reConstructDict.keys())"
   ]
  },
  {
   "cell_type": "code",
   "execution_count": 33,
   "id": "25e0afac",
   "metadata": {},
   "outputs": [],
   "source": [
    "testList.sort()"
   ]
  },
  {
   "cell_type": "code",
   "execution_count": 34,
   "id": "9325e49b",
   "metadata": {},
   "outputs": [
    {
     "data": {
      "text/plain": [
       "['0000', '0148', '5961']"
      ]
     },
     "execution_count": 34,
     "metadata": {},
     "output_type": "execute_result"
    }
   ],
   "source": [
    "testList"
   ]
  },
  {
   "cell_type": "code",
   "execution_count": 21,
   "id": "75c05b31",
   "metadata": {},
   "outputs": [],
   "source": [
    "def makeTotalTime(inOutList):\n",
    "    totalTime = 0\n",
    "    index = 0\n",
    "    while (index<len(inOutList)-1):\n",
    "        if inOutList[index][-1]=='IN':\n",
    "            totalTime += makeMinute(inOutList[index+1][0]) -makeMinute(inOutList[index][0])\n",
    "        \n",
    "        index +=1\n",
    "    return totalTime"
   ]
  },
  {
   "cell_type": "code",
   "execution_count": 22,
   "id": "fd9f97fc",
   "metadata": {},
   "outputs": [
    {
     "data": {
      "text/plain": [
       "146"
      ]
     },
     "execution_count": 22,
     "metadata": {},
     "output_type": "execute_result"
    }
   ],
   "source": [
    "\n",
    "testList =  [['05:34', 'IN'],\n",
    "  ['07:59', 'OUT'],\n",
    "  ['22:59', 'IN'],\n",
    "  ['23:00', 'OUT']]\n",
    "makeTotalTime(testList)"
   ]
  },
  {
   "cell_type": "code",
   "execution_count": 11,
   "id": "0809dd82",
   "metadata": {},
   "outputs": [],
   "source": [
    "asdf=[12,4,3,4]"
   ]
  },
  {
   "cell_type": "code",
   "execution_count": 12,
   "id": "65ee2ac1",
   "metadata": {},
   "outputs": [
    {
     "data": {
      "text/plain": [
       "4"
      ]
     },
     "execution_count": 12,
     "metadata": {},
     "output_type": "execute_result"
    }
   ],
   "source": [
    "asdf[-1]"
   ]
  },
  {
   "cell_type": "code",
   "execution_count": 18,
   "id": "f7fc8d01",
   "metadata": {},
   "outputs": [],
   "source": [
    "def makeMinute(time):\n",
    "    HH = time.split(':')[0]\n",
    "    MM = time.split(':')[1]\n",
    "    return int(HH) * 60 + int(MM)"
   ]
  },
  {
   "cell_type": "code",
   "execution_count": 19,
   "id": "62dda6a7",
   "metadata": {},
   "outputs": [
    {
     "data": {
      "text/plain": [
       "1439"
      ]
     },
     "execution_count": 19,
     "metadata": {},
     "output_type": "execute_result"
    }
   ],
   "source": [
    "makeMinute('23:59')"
   ]
  },
  {
   "cell_type": "code",
   "execution_count": 25,
   "id": "504e9785",
   "metadata": {},
   "outputs": [],
   "source": [
    "import math"
   ]
  },
  {
   "cell_type": "code",
   "execution_count": 26,
   "id": "e02f5e0e",
   "metadata": {},
   "outputs": [
    {
     "data": {
      "text/plain": [
       "4"
      ]
     },
     "execution_count": 26,
     "metadata": {},
     "output_type": "execute_result"
    }
   ],
   "source": [
    "math.ceil(3.14)"
   ]
  },
  {
   "cell_type": "code",
   "execution_count": null,
   "id": "68e7b941",
   "metadata": {},
   "outputs": [],
   "source": [
    "import math\n",
    "\n",
    "def makeMinute(time):\n",
    "    HH = time.split(':')[0]\n",
    "    MM = time.split(':')[1]\n",
    "    return int(HH) * 60 + int(MM)\n",
    "def makeTotalTime(inOutList):\n",
    "    totalTime = 0\n",
    "    index = 0\n",
    "    while (index<len(inOutList)-1):\n",
    "        if inOutList[index][-1]=='IN':\n",
    "            totalTime += makeMinute(inOutList[index+1][0]) -makeMinute(inOutList[index][0])\n",
    "        \n",
    "        index +=1\n",
    "    return totalTime\n",
    "\n",
    "def solution(fees, records):\n",
    "    baseTime = fees[0]\n",
    "    baseFee = fees[1]\n",
    "    unitTime = fees[2]\n",
    "    unitFee = fees[3]\n",
    "    answer = []\n",
    "\n",
    "    reConstructDict={}\n",
    "    for record in records:\n",
    "        itemList = record.split(' ')\n",
    "        reConstructDict[itemList[1]] = []\n",
    "    \n",
    "    for record in records:\n",
    "        itemList = record.split(' ')\n",
    "        reConstructDict[itemList[1]].append([itemList[0], itemList[2]])\n",
    "        \n",
    "    keyList = list(reConstructDict.keys())\n",
    "    keyList.sort()\n",
    "    for key in keyList:\n",
    "        inOutList = reConstructDict[key]\n",
    "        if inOutList[-1][1] == 'IN':\n",
    "            reConstructDict[key].append(['23:59', 'OUT'])\n",
    "    \n",
    "    for key in keyList:\n",
    "        inOutList = reConstructDict[key]\n",
    "        totalTime = makeTotalTime(inOutList)\n",
    "        if totalTime>baseTime:\n",
    "            totalFee = baseFee + math.ceil((totalTime - baseTime) / unitTime) * unitFee\n",
    "        else : \n",
    "            totalFee = baseFee\n",
    "        answer.append(totalFee)\n",
    "    \n",
    "    return answer"
   ]
  },
  {
   "cell_type": "code",
   "execution_count": null,
   "id": "55f49356",
   "metadata": {},
   "outputs": [],
   "source": [
    "import math\n",
    "\n",
    "def makeMinute(time):\n",
    "    HH = time.split(':')[0]\n",
    "    MM = time.split(':')[1]\n",
    "    return int(HH) * 60 + int(MM)\n",
    "def makeTotalTime(inOutList):\n",
    "    totalTime = 0\n",
    "    index = 0\n",
    "    while (index<len(inOutList)-1):\n",
    "        if inOutList[index][-1]=='IN':\n",
    "            totalTime += makeMinute(inOutList[index+1][0]) -makeMinute(inOutList[index][0])\n",
    "        \n",
    "        index +=1\n",
    "    return totalTime\n",
    "\n",
    "def solution(fees, records):\n",
    "    baseTime = fees[0]\n",
    "    baseFee = fees[1]\n",
    "    unitTime = fees[2]\n",
    "    unitFee = fees[3]\n",
    "    answer = []\n",
    "\n",
    "    reConstructDict={}\n",
    "    for record in records:\n",
    "        itemList = record.split(' ')\n",
    "        reConstructDict[itemList[1]] = []\n",
    "    \n",
    "    for record in records:\n",
    "        itemList = record.split(' ')\n",
    "        reConstructDict[itemList[1]].append([itemList[0], itemList[2]])\n",
    "        \n",
    "    keyList = list(reConstructDict.keys())\n",
    "    keyList.sort()\n",
    "    for key in keyList:\n",
    "        inOutList = reConstructDict[key]\n",
    "        if inOutList[-1][1] == 'IN':\n",
    "            reConstructDict[key].append(['23:59', 'OUT'])\n",
    "    \n",
    "    for key in keyList:\n",
    "        inOutList = reConstructDict[key]\n",
    "        totalTime = makeTotalTime(inOutList)\n",
    "        if totalTime>baseTime:\n",
    "            totalFee = baseFee + math.ceil((totalTime - baseTime) / unitTime) * unitFee\n",
    "        else : \n",
    "            totalFee = baseFee\n",
    "        answer.append(totalFee)\n",
    "    \n",
    "    return answer"
   ]
  }
 ],
 "metadata": {
  "kernelspec": {
   "display_name": "Python 3",
   "language": "python",
   "name": "python3"
  },
  "language_info": {
   "codemirror_mode": {
    "name": "ipython",
    "version": 3
   },
   "file_extension": ".py",
   "mimetype": "text/x-python",
   "name": "python",
   "nbconvert_exporter": "python",
   "pygments_lexer": "ipython3",
   "version": "3.8.8"
  }
 },
 "nbformat": 4,
 "nbformat_minor": 5
}
