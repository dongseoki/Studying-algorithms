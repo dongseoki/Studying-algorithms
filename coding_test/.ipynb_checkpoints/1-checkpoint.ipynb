{
 "cells": [
  {
   "cell_type": "code",
   "execution_count": 1,
   "id": "a23814f2",
   "metadata": {},
   "outputs": [],
   "source": [
    "testdic={1:2,3:2}"
   ]
  },
  {
   "cell_type": "code",
   "execution_count": 2,
   "id": "4cee3c77",
   "metadata": {},
   "outputs": [
    {
     "data": {
      "text/plain": [
       "{1: 2, 3: 2}"
      ]
     },
     "execution_count": 2,
     "metadata": {},
     "output_type": "execute_result"
    }
   ],
   "source": [
    "testdic"
   ]
  },
  {
   "cell_type": "code",
   "execution_count": 3,
   "id": "9d57b2d4",
   "metadata": {},
   "outputs": [],
   "source": [
    "testdic={1:{2,3,4},3:2}"
   ]
  },
  {
   "cell_type": "code",
   "execution_count": 4,
   "id": "3ea6acaf",
   "metadata": {},
   "outputs": [
    {
     "data": {
      "text/plain": [
       "{1: {2, 3, 4}, 3: 2}"
      ]
     },
     "execution_count": 4,
     "metadata": {},
     "output_type": "execute_result"
    }
   ],
   "source": [
    "testdic"
   ]
  },
  {
   "cell_type": "code",
   "execution_count": 6,
   "id": "9697d3cb",
   "metadata": {},
   "outputs": [],
   "source": [
    "s1 = set([\"ryan con\", \"ryan con\", \"ryan con\", \"ryan con\"])"
   ]
  },
  {
   "cell_type": "code",
   "execution_count": 7,
   "id": "bca7fb6a",
   "metadata": {},
   "outputs": [
    {
     "data": {
      "text/plain": [
       "{'ryan con'}"
      ]
     },
     "execution_count": 7,
     "metadata": {},
     "output_type": "execute_result"
    }
   ],
   "source": [
    "s1"
   ]
  },
  {
   "cell_type": "code",
   "execution_count": 24,
   "id": "c821c45a",
   "metadata": {},
   "outputs": [],
   "source": [
    "id_list = [\"muzi\", \"frodo\", \"apeach\", \"neo\"]"
   ]
  },
  {
   "cell_type": "code",
   "execution_count": 8,
   "id": "77820889",
   "metadata": {},
   "outputs": [],
   "source": [
    "report = [\"muzi frodo\",\"apeach frodo\",\"frodo neo\",\"muzi neo\",\"apeach muzi\"]"
   ]
  },
  {
   "cell_type": "code",
   "execution_count": 9,
   "id": "172f7875",
   "metadata": {},
   "outputs": [],
   "source": [
    "report_set = set(report)"
   ]
  },
  {
   "cell_type": "code",
   "execution_count": 10,
   "id": "8ad2fba2",
   "metadata": {},
   "outputs": [
    {
     "data": {
      "text/plain": [
       "{'apeach frodo', 'apeach muzi', 'frodo neo', 'muzi frodo', 'muzi neo'}"
      ]
     },
     "execution_count": 10,
     "metadata": {},
     "output_type": "execute_result"
    }
   ],
   "source": [
    "report_set"
   ]
  },
  {
   "cell_type": "code",
   "execution_count": 39,
   "id": "425e8c5b",
   "metadata": {},
   "outputs": [],
   "source": [
    "k=2"
   ]
  },
  {
   "cell_type": "code",
   "execution_count": 25,
   "id": "3606d85a",
   "metadata": {},
   "outputs": [],
   "source": [
    "userDeclared ={}\n",
    "userDeclaringIDs ={}"
   ]
  },
  {
   "cell_type": "code",
   "execution_count": 26,
   "id": "4c37d2e1",
   "metadata": {},
   "outputs": [],
   "source": [
    "# map 초기화.\n",
    "\n",
    "for id in id_list:\n",
    "    userDeclared[id]=0\n",
    "    userDeclaringIDs[id]=set({})\n",
    "\n"
   ]
  },
  {
   "cell_type": "code",
   "execution_count": 31,
   "id": "a8218a92",
   "metadata": {
    "scrolled": true
   },
   "outputs": [
    {
     "data": {
      "text/plain": [
       "{'muzi': 1, 'frodo': 2, 'apeach': 0, 'neo': 2}"
      ]
     },
     "execution_count": 31,
     "metadata": {},
     "output_type": "execute_result"
    }
   ],
   "source": [
    "userDeclared"
   ]
  },
  {
   "cell_type": "code",
   "execution_count": 32,
   "id": "1fcd836c",
   "metadata": {},
   "outputs": [
    {
     "data": {
      "text/plain": [
       "{'muzi': {'frodo', 'neo'},\n",
       " 'frodo': {'neo'},\n",
       " 'apeach': {'frodo', 'muzi'},\n",
       " 'neo': set()}"
      ]
     },
     "execution_count": 32,
     "metadata": {},
     "output_type": "execute_result"
    }
   ],
   "source": [
    "userDeclaringIDs"
   ]
  },
  {
   "cell_type": "code",
   "execution_count": 30,
   "id": "1e8ef60a",
   "metadata": {},
   "outputs": [],
   "source": [
    "# userDeclared \n",
    "# userDeclaringIDs\n",
    "for declare in report_set:\n",
    "    uid = declare.split(' ')[0]\n",
    "    did = declare.split(' ')[1]\n",
    "    userDeclared[did] += 1\n",
    "    userDeclaringIDs[uid].add(did)"
   ]
  },
  {
   "cell_type": "code",
   "execution_count": 40,
   "id": "665d6acd",
   "metadata": {},
   "outputs": [],
   "source": [
    "answer = []\n",
    "for id in id_list:\n",
    "    stopCnt=0\n",
    "    for did  in userDeclaringIDs[id]:\n",
    "        if userDeclared[did] >=k:\n",
    "            stopCnt +=1\n",
    "    answer.append(stopCnt)"
   ]
  },
  {
   "cell_type": "code",
   "execution_count": 41,
   "id": "383468f6",
   "metadata": {},
   "outputs": [
    {
     "data": {
      "text/plain": [
       "[2, 1, 1, 0]"
      ]
     },
     "execution_count": 41,
     "metadata": {},
     "output_type": "execute_result"
    }
   ],
   "source": [
    "answer"
   ]
  },
  {
   "cell_type": "code",
   "execution_count": 11,
   "id": "62bb3fd7",
   "metadata": {},
   "outputs": [
    {
     "name": "stdout",
     "output_type": "stream",
     "text": [
      "['1', '2']\n"
     ]
    }
   ],
   "source": [
    "# split test\n",
    "a='1 2'\n",
    "print(a.split(' '))"
   ]
  },
  {
   "cell_type": "code",
   "execution_count": 15,
   "id": "daf61745",
   "metadata": {},
   "outputs": [],
   "source": [
    "testDic={'a':1}"
   ]
  },
  {
   "cell_type": "code",
   "execution_count": 17,
   "id": "a7300e21",
   "metadata": {},
   "outputs": [
    {
     "data": {
      "text/plain": [
       "False"
      ]
     },
     "execution_count": 17,
     "metadata": {},
     "output_type": "execute_result"
    }
   ],
   "source": [
    "'b' in testDic"
   ]
  },
  {
   "cell_type": "code",
   "execution_count": 18,
   "id": "db4920fe",
   "metadata": {},
   "outputs": [],
   "source": [
    "tes  = set({})"
   ]
  },
  {
   "cell_type": "code",
   "execution_count": 19,
   "id": "856e78e8",
   "metadata": {},
   "outputs": [
    {
     "data": {
      "text/plain": [
       "set()"
      ]
     },
     "execution_count": 19,
     "metadata": {},
     "output_type": "execute_result"
    }
   ],
   "source": [
    "tes"
   ]
  },
  {
   "cell_type": "code",
   "execution_count": 22,
   "id": "a0e9fb35",
   "metadata": {},
   "outputs": [],
   "source": [
    "tes.add(1)"
   ]
  },
  {
   "cell_type": "code",
   "execution_count": 23,
   "id": "fdf2f9ca",
   "metadata": {},
   "outputs": [
    {
     "data": {
      "text/plain": [
       "{1}"
      ]
     },
     "execution_count": 23,
     "metadata": {},
     "output_type": "execute_result"
    }
   ],
   "source": [
    "tes"
   ]
  },
  {
   "cell_type": "code",
   "execution_count": 33,
   "id": "caac19b5",
   "metadata": {},
   "outputs": [],
   "source": [
    "answer = []\n"
   ]
  },
  {
   "cell_type": "code",
   "execution_count": 37,
   "id": "d9723384",
   "metadata": {},
   "outputs": [],
   "source": [
    "answer.append(1)"
   ]
  },
  {
   "cell_type": "code",
   "execution_count": 38,
   "id": "82debcc6",
   "metadata": {},
   "outputs": [
    {
     "data": {
      "text/plain": [
       "[1, 1]"
      ]
     },
     "execution_count": 38,
     "metadata": {},
     "output_type": "execute_result"
    }
   ],
   "source": [
    "answer"
   ]
  },
  {
   "cell_type": "code",
   "execution_count": 42,
   "id": "c37ad031",
   "metadata": {},
   "outputs": [],
   "source": [
    "def solution(id_list, report, k):\n",
    "    answer = []\n",
    "    report_set = set(report)\n",
    "    userDeclared ={}\n",
    "    userDeclaringIDs ={}\n",
    "    for id in id_list:\n",
    "        userDeclared[id]=0\n",
    "        userDeclaringIDs[id]=set({})\n",
    "    \n",
    "    for declare in report_set:\n",
    "        uid = declare.split(' ')[0]\n",
    "        did = declare.split(' ')[1]\n",
    "        userDeclared[did] += 1\n",
    "        userDeclaringIDs[uid].add(did)\n",
    "    \n",
    "    for id in id_list:\n",
    "        stopCnt=0\n",
    "        for did  in userDeclaringIDs[id]:\n",
    "            if userDeclared[did] >=k:\n",
    "                stopCnt +=1\n",
    "        answer.append(stopCnt)\n",
    "    return answer"
   ]
  },
  {
   "cell_type": "code",
   "execution_count": null,
   "id": "c16acb22",
   "metadata": {},
   "outputs": [],
   "source": []
  }
 ],
 "metadata": {
  "kernelspec": {
   "display_name": "Python 3",
   "language": "python",
   "name": "python3"
  },
  "language_info": {
   "codemirror_mode": {
    "name": "ipython",
    "version": 3
   },
   "file_extension": ".py",
   "mimetype": "text/x-python",
   "name": "python",
   "nbconvert_exporter": "python",
   "pygments_lexer": "ipython3",
   "version": "3.8.8"
  }
 },
 "nbformat": 4,
 "nbformat_minor": 5
}
