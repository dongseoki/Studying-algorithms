{
 "cells": [
  {
   "cell_type": "code",
   "execution_count": 1,
   "id": "3b4e2d21",
   "metadata": {},
   "outputs": [],
   "source": [
    "testdic={1:2,3:2}"
   ]
  },
  {
   "cell_type": "code",
   "execution_count": 2,
   "id": "cc666836",
   "metadata": {},
   "outputs": [
    {
     "data": {
      "text/plain": [
       "{1: 2, 3: 2}"
      ]
     },
     "execution_count": 2,
     "metadata": {},
     "output_type": "execute_result"
    }
   ],
   "source": [
    "testdic"
   ]
  },
  {
   "cell_type": "code",
   "execution_count": 3,
   "id": "b6c3a8b8",
   "metadata": {},
   "outputs": [],
   "source": [
    "testdic={1:{2,3,4},3:2}"
   ]
  },
  {
   "cell_type": "code",
   "execution_count": 4,
   "id": "a492f5fe",
   "metadata": {},
   "outputs": [
    {
     "data": {
      "text/plain": [
       "{1: {2, 3, 4}, 3: 2}"
      ]
     },
     "execution_count": 4,
     "metadata": {},
     "output_type": "execute_result"
    }
   ],
   "source": [
    "testdic"
   ]
  },
  {
   "cell_type": "code",
   "execution_count": 6,
   "id": "ceed0e80",
   "metadata": {},
   "outputs": [],
   "source": [
    "s1 = set([\"ryan con\", \"ryan con\", \"ryan con\", \"ryan con\"])"
   ]
  },
  {
   "cell_type": "code",
   "execution_count": 7,
   "id": "af0d0145",
   "metadata": {},
   "outputs": [
    {
     "data": {
      "text/plain": [
       "{'ryan con'}"
      ]
     },
     "execution_count": 7,
     "metadata": {},
     "output_type": "execute_result"
    }
   ],
   "source": [
    "s1"
   ]
  },
  {
   "cell_type": "code",
   "execution_count": 24,
   "id": "9b74f3cc",
   "metadata": {},
   "outputs": [],
   "source": [
    "id_list = [\"muzi\", \"frodo\", \"apeach\", \"neo\"]"
   ]
  },
  {
   "cell_type": "code",
   "execution_count": 8,
   "id": "072963bd",
   "metadata": {},
   "outputs": [],
   "source": [
    "report = [\"muzi frodo\",\"apeach frodo\",\"frodo neo\",\"muzi neo\",\"apeach muzi\"]"
   ]
  },
  {
   "cell_type": "code",
   "execution_count": 9,
   "id": "629186c0",
   "metadata": {},
   "outputs": [],
   "source": [
    "report_set = set(report)"
   ]
  },
  {
   "cell_type": "code",
   "execution_count": 10,
   "id": "4a29bc68",
   "metadata": {},
   "outputs": [
    {
     "data": {
      "text/plain": [
       "{'apeach frodo', 'apeach muzi', 'frodo neo', 'muzi frodo', 'muzi neo'}"
      ]
     },
     "execution_count": 10,
     "metadata": {},
     "output_type": "execute_result"
    }
   ],
   "source": [
    "report_set"
   ]
  },
  {
   "cell_type": "code",
   "execution_count": 39,
   "id": "bcdabcb6",
   "metadata": {},
   "outputs": [],
   "source": [
    "k=2"
   ]
  },
  {
   "cell_type": "code",
   "execution_count": 25,
   "id": "499f9c06",
   "metadata": {},
   "outputs": [],
   "source": [
    "userDeclared ={}\n",
    "userDeclaringIDs ={}"
   ]
  },
  {
   "cell_type": "code",
   "execution_count": 26,
   "id": "15493340",
   "metadata": {},
   "outputs": [],
   "source": [
    "# map 초기화.\n",
    "\n",
    "for id in id_list:\n",
    "    userDeclared[id]=0\n",
    "    userDeclaringIDs[id]=set({})\n",
    "\n"
   ]
  },
  {
   "cell_type": "code",
   "execution_count": 31,
   "id": "e15d91bd",
   "metadata": {
    "scrolled": true
   },
   "outputs": [
    {
     "data": {
      "text/plain": [
       "{'muzi': 1, 'frodo': 2, 'apeach': 0, 'neo': 2}"
      ]
     },
     "execution_count": 31,
     "metadata": {},
     "output_type": "execute_result"
    }
   ],
   "source": [
    "userDeclared"
   ]
  },
  {
   "cell_type": "code",
   "execution_count": 32,
   "id": "55f61620",
   "metadata": {},
   "outputs": [
    {
     "data": {
      "text/plain": [
       "{'muzi': {'frodo', 'neo'},\n",
       " 'frodo': {'neo'},\n",
       " 'apeach': {'frodo', 'muzi'},\n",
       " 'neo': set()}"
      ]
     },
     "execution_count": 32,
     "metadata": {},
     "output_type": "execute_result"
    }
   ],
   "source": [
    "userDeclaringIDs"
   ]
  },
  {
   "cell_type": "code",
   "execution_count": 30,
   "id": "ee2aff51",
   "metadata": {},
   "outputs": [],
   "source": [
    "# userDeclared \n",
    "# userDeclaringIDs\n",
    "for declare in report_set:\n",
    "    uid = declare.split(' ')[0]\n",
    "    did = declare.split(' ')[1]\n",
    "    userDeclared[did] += 1\n",
    "    userDeclaringIDs[uid].add(did)"
   ]
  },
  {
   "cell_type": "code",
   "execution_count": 40,
   "id": "8fb0cd56",
   "metadata": {},
   "outputs": [],
   "source": [
    "answer = []\n",
    "for id in id_list:\n",
    "    stopCnt=0\n",
    "    for did  in userDeclaringIDs[id]:\n",
    "        if userDeclared[did] >=k:\n",
    "            stopCnt +=1\n",
    "    answer.append(stopCnt)"
   ]
  },
  {
   "cell_type": "code",
   "execution_count": 41,
   "id": "970e6e1d",
   "metadata": {},
   "outputs": [
    {
     "data": {
      "text/plain": [
       "[2, 1, 1, 0]"
      ]
     },
     "execution_count": 41,
     "metadata": {},
     "output_type": "execute_result"
    }
   ],
   "source": [
    "answer"
   ]
  },
  {
   "cell_type": "code",
   "execution_count": 11,
   "id": "b97b5a2a",
   "metadata": {},
   "outputs": [
    {
     "name": "stdout",
     "output_type": "stream",
     "text": [
      "['1', '2']\n"
     ]
    }
   ],
   "source": [
    "# split test\n",
    "a='1 2'\n",
    "print(a.split(' '))"
   ]
  },
  {
   "cell_type": "code",
   "execution_count": 15,
   "id": "d0320a1f",
   "metadata": {},
   "outputs": [],
   "source": [
    "testDic={'a':1}"
   ]
  },
  {
   "cell_type": "code",
   "execution_count": 17,
   "id": "7ac17590",
   "metadata": {},
   "outputs": [
    {
     "data": {
      "text/plain": [
       "False"
      ]
     },
     "execution_count": 17,
     "metadata": {},
     "output_type": "execute_result"
    }
   ],
   "source": [
    "'b' in testDic"
   ]
  },
  {
   "cell_type": "code",
   "execution_count": 18,
   "id": "2975ed33",
   "metadata": {},
   "outputs": [],
   "source": [
    "tes  = set({})"
   ]
  },
  {
   "cell_type": "code",
   "execution_count": 19,
   "id": "825f0c41",
   "metadata": {},
   "outputs": [
    {
     "data": {
      "text/plain": [
       "set()"
      ]
     },
     "execution_count": 19,
     "metadata": {},
     "output_type": "execute_result"
    }
   ],
   "source": [
    "tes"
   ]
  },
  {
   "cell_type": "code",
   "execution_count": 22,
   "id": "c6df39a8",
   "metadata": {},
   "outputs": [],
   "source": [
    "tes.add(1)"
   ]
  },
  {
   "cell_type": "code",
   "execution_count": 23,
   "id": "d99da0a5",
   "metadata": {},
   "outputs": [
    {
     "data": {
      "text/plain": [
       "{1}"
      ]
     },
     "execution_count": 23,
     "metadata": {},
     "output_type": "execute_result"
    }
   ],
   "source": [
    "tes"
   ]
  },
  {
   "cell_type": "code",
   "execution_count": 33,
   "id": "7379650f",
   "metadata": {},
   "outputs": [],
   "source": [
    "answer = []\n"
   ]
  },
  {
   "cell_type": "code",
   "execution_count": 37,
   "id": "7b2161ac",
   "metadata": {},
   "outputs": [],
   "source": [
    "answer.append(1)"
   ]
  },
  {
   "cell_type": "code",
   "execution_count": 38,
   "id": "1d7d0e2d",
   "metadata": {},
   "outputs": [
    {
     "data": {
      "text/plain": [
       "[1, 1]"
      ]
     },
     "execution_count": 38,
     "metadata": {},
     "output_type": "execute_result"
    }
   ],
   "source": [
    "answer"
   ]
  },
  {
   "cell_type": "code",
   "execution_count": 42,
   "id": "d79a79f8",
   "metadata": {},
   "outputs": [],
   "source": [
    "def solution(id_list, report, k):\n",
    "    answer = []\n",
    "    report_set = set(report)\n",
    "    userDeclared ={}\n",
    "    userDeclaringIDs ={}\n",
    "    for id in id_list:\n",
    "        userDeclared[id]=0\n",
    "        userDeclaringIDs[id]=set({})\n",
    "    \n",
    "    for declare in report_set:\n",
    "        uid = declare.split(' ')[0]\n",
    "        did = declare.split(' ')[1]\n",
    "        userDeclared[did] += 1\n",
    "        userDeclaringIDs[uid].add(did)\n",
    "    \n",
    "    for id in id_list:\n",
    "        stopCnt=0\n",
    "        for did  in userDeclaringIDs[id]:\n",
    "            if userDeclared[did] >=k:\n",
    "                stopCnt +=1\n",
    "        answer.append(stopCnt)\n",
    "    return answer"
   ]
  },
  {
   "cell_type": "code",
   "execution_count": 43,
   "id": "2006a6cf",
   "metadata": {},
   "outputs": [
    {
     "data": {
      "text/plain": [
       "3"
      ]
     },
     "execution_count": 43,
     "metadata": {},
     "output_type": "execute_result"
    }
   ],
   "source": [
    "7//2"
   ]
  },
  {
   "cell_type": "code",
   "execution_count": 44,
   "id": "dc77fc6a",
   "metadata": {},
   "outputs": [
    {
     "data": {
      "text/plain": [
       "3.5"
      ]
     },
     "execution_count": 44,
     "metadata": {},
     "output_type": "execute_result"
    }
   ],
   "source": [
    "7/2"
   ]
  },
  {
   "cell_type": "code",
   "execution_count": null,
   "id": "9c194e50",
   "metadata": {},
   "outputs": [],
   "source": []
  }
 ],
 "metadata": {
  "kernelspec": {
   "display_name": "Python 3",
   "language": "python",
   "name": "python3"
  },
  "language_info": {
   "codemirror_mode": {
    "name": "ipython",
    "version": 3
   },
   "file_extension": ".py",
   "mimetype": "text/x-python",
   "name": "python",
   "nbconvert_exporter": "python",
   "pygments_lexer": "ipython3",
   "version": "3.8.8"
  }
 },
 "nbformat": 4,
 "nbformat_minor": 5
}
