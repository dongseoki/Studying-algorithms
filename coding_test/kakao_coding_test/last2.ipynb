{
 "cells": [
  {
   "cell_type": "code",
   "execution_count": 2,
   "id": "ffc981a4",
   "metadata": {},
   "outputs": [],
   "source": [
    "import math"
   ]
  },
  {
   "cell_type": "code",
   "execution_count": null,
   "id": "168141cf",
   "metadata": {},
   "outputs": [],
   "source": []
  },
  {
   "cell_type": "code",
   "execution_count": 1,
   "id": "afc5b693",
   "metadata": {},
   "outputs": [],
   "source": [
    "def JinSuConvert(n, k):\n",
    "    test = ''\n",
    "\n",
    "    while n > 0:\n",
    "        temp = n\n",
    "        n = temp//k\n",
    "        res = temp%k\n",
    "\n",
    "        test = str(res) + test\n",
    "\n",
    "    return test"
   ]
  },
  {
   "cell_type": "code",
   "execution_count": 3,
   "id": "91bf7a4a",
   "metadata": {},
   "outputs": [
    {
     "ename": "NameError",
     "evalue": "name 'n' is not defined",
     "output_type": "error",
     "traceback": [
      "\u001b[1;31m---------------------------------------------------------------------------\u001b[0m",
      "\u001b[1;31mNameError\u001b[0m                                 Traceback (most recent call last)",
      "\u001b[1;32m<ipython-input-3-ef9c3f8f0b45>\u001b[0m in \u001b[0;36m<module>\u001b[1;34m\u001b[0m\n\u001b[1;32m----> 1\u001b[1;33m \u001b[0meratosthenes_che_list\u001b[0m \u001b[1;33m=\u001b[0m \u001b[1;33m[\u001b[0m\u001b[1;32mTrue\u001b[0m\u001b[1;33m]\u001b[0m \u001b[1;33m*\u001b[0m \u001b[0mn\u001b[0m\u001b[1;33m\u001b[0m\u001b[1;33m\u001b[0m\u001b[0m\n\u001b[0m\u001b[0;32m      2\u001b[0m \u001b[1;32mdef\u001b[0m \u001b[0mmakeEratosthenes_che\u001b[0m\u001b[1;33m(\u001b[0m\u001b[0mn\u001b[0m\u001b[1;33m)\u001b[0m\u001b[1;33m:\u001b[0m\u001b[1;33m\u001b[0m\u001b[1;33m\u001b[0m\u001b[0m\n\u001b[0;32m      3\u001b[0m     \u001b[0meratosthenes_che_list\u001b[0m\u001b[1;33m[\u001b[0m\u001b[1;36m1\u001b[0m\u001b[1;33m]\u001b[0m \u001b[1;33m=\u001b[0m \u001b[1;32mFalse\u001b[0m\u001b[1;33m\u001b[0m\u001b[1;33m\u001b[0m\u001b[0m\n\u001b[0;32m      4\u001b[0m     \u001b[0mend\u001b[0m \u001b[1;33m=\u001b[0m \u001b[0mint\u001b[0m\u001b[1;33m(\u001b[0m\u001b[0mmath\u001b[0m\u001b[1;33m.\u001b[0m\u001b[0msqrt\u001b[0m\u001b[1;33m(\u001b[0m\u001b[0mn\u001b[0m\u001b[1;33m)\u001b[0m\u001b[1;33m)\u001b[0m\u001b[1;33m\u001b[0m\u001b[1;33m\u001b[0m\u001b[0m\n\u001b[0;32m      5\u001b[0m     \u001b[1;32mfor\u001b[0m \u001b[0mi\u001b[0m \u001b[1;32min\u001b[0m \u001b[0mrange\u001b[0m\u001b[1;33m(\u001b[0m\u001b[1;36m2\u001b[0m\u001b[1;33m,\u001b[0m \u001b[0mend\u001b[0m \u001b[1;33m+\u001b[0m \u001b[1;36m1\u001b[0m\u001b[1;33m)\u001b[0m\u001b[1;33m:\u001b[0m\u001b[1;33m\u001b[0m\u001b[1;33m\u001b[0m\u001b[0m\n",
      "\u001b[1;31mNameError\u001b[0m: name 'n' is not defined"
     ]
    }
   ],
   "source": [
    "eratosthenes_che_list = [True] * n\n",
    "def makeEratosthenes_che(n, eratosthenes_che_list):\n",
    "    eratosthenes_che_list[1] = False\n",
    "    end = int(math.sqrt(n))\n",
    "    for i in range(2, end + 1):\n",
    "        if eratosthenes_che_list[i]:    \n",
    "            for num in range(i*2, n, i): \n",
    "                eratosthenes_che_list[num] = False"
   ]
  },
  {
   "cell_type": "code",
   "execution_count": null,
   "id": "ee614a08",
   "metadata": {},
   "outputs": [],
   "source": [
    "converted_n = JinSuConvert(n,k)\n",
    "itemList = converted_n.split('0')\n",
    "print(itemList)"
   ]
  },
  {
   "cell_type": "code",
   "execution_count": 6,
   "id": "1eece7ba",
   "metadata": {},
   "outputs": [],
   "source": [
    "def JinSuConvert(n, k):\n",
    "    test = ''\n",
    "\n",
    "    while n > 0:\n",
    "        temp = n\n",
    "        n = temp//k\n",
    "        res = temp%k\n",
    "\n",
    "        test = str(res) + test\n",
    "\n",
    "    return test\n",
    "\n",
    "def makeEratosthenes_che(n, eratosthenes_che_list):\n",
    "    eratosthenes_che_list[1] = False\n",
    "    end = int(math.sqrt(n))\n",
    "    for i in range(2, end + 1):\n",
    "        if eratosthenes_che_list[i]:    \n",
    "            for num in range(i*2, n, i): \n",
    "                eratosthenes_che_list[num] = False\n",
    "\n",
    "def solution(n, k):\n",
    "    eratosthenes_che_list = [True] * n\n",
    "    converted_n = JinSuConvert(n,k)\n",
    "    itemList = converted_n.split('0')\n",
    "    makeEratosthenes_che(n, eratosthenes_che_list)\n",
    "    answer = 0\n",
    "    for testNum in itemList:\n",
    "        if eratosthenes_che_list[int(testNum)]:\n",
    "            answer +=1\n",
    "    return answer"
   ]
  },
  {
   "cell_type": "code",
   "execution_count": 7,
   "id": "54d3958d",
   "metadata": {},
   "outputs": [
    {
     "data": {
      "text/plain": [
       "3"
      ]
     },
     "execution_count": 7,
     "metadata": {},
     "output_type": "execute_result"
    }
   ],
   "source": [
    "solution(437674,3)"
   ]
  },
  {
   "cell_type": "code",
   "execution_count": null,
   "id": "12ed9a20",
   "metadata": {},
   "outputs": [],
   "source": [
    "answer = 0\n",
    "for testNum in itemList:\n",
    "    if eratosthenes_che_list[int(testNum)]:\n",
    "        answer +=1\n",
    "    print(testNum, eratosthenes_che_list[int(testNum)], answer)"
   ]
  },
  {
   "cell_type": "code",
   "execution_count": 10,
   "id": "da46a045",
   "metadata": {},
   "outputs": [],
   "source": [
    "import math\n",
    "def JinSuConvert(n, k):\n",
    "    test = ''\n",
    "\n",
    "    while n > 0:\n",
    "        temp = n\n",
    "        n = temp//k\n",
    "        res = temp%k\n",
    "\n",
    "        test = str(res) + test\n",
    "\n",
    "    return test\n",
    "\n",
    "def makeEratosthenes_che(n, eratosthenes_che_list):\n",
    "    eratosthenes_che_list[1] = False\n",
    "    end = int(math.sqrt(n))\n",
    "    for i in range(2, end + 1):\n",
    "        if eratosthenes_che_list[i]:    \n",
    "            for num in range(i*2, n, i): \n",
    "                eratosthenes_che_list[num] = False\n",
    "\n",
    "def solution(n, k):\n",
    "    eratosthenes_che_list = [True] * n\n",
    "    converted_n = JinSuConvert(n,k)\n",
    "    itemList = converted_n.split('0')\n",
    "    makeEratosthenes_che(n, eratosthenes_che_list)\n",
    "    answer = 0\n",
    "    for testNum in itemList:\n",
    "        if testNum != '' and eratosthenes_che_list[int(testNum)]:\n",
    "            answer +=1\n",
    "    return answer"
   ]
  },
  {
   "cell_type": "code",
   "execution_count": 11,
   "id": "a7577a82",
   "metadata": {},
   "outputs": [
    {
     "data": {
      "text/plain": [
       "2"
      ]
     },
     "execution_count": 11,
     "metadata": {},
     "output_type": "execute_result"
    }
   ],
   "source": [
    "solution(110011,10)"
   ]
  },
  {
   "cell_type": "code",
   "execution_count": 30,
   "id": "afca49e0",
   "metadata": {},
   "outputs": [],
   "source": [
    "import math\n",
    "def JinSuConvert(n, k):\n",
    "    test = ''\n",
    "\n",
    "    while n > 0:\n",
    "        temp = n\n",
    "        n = temp//k\n",
    "        res = temp%k\n",
    "\n",
    "        test = str(res) + test\n",
    "\n",
    "    return test\n",
    "\n",
    "def makeEratosthenes_che(n, eratosthenes_che_list):\n",
    "    eratosthenes_che_list[1] = False\n",
    "    end = int(math.sqrt(n))\n",
    "    for i in range(2, end + 1):\n",
    "        if eratosthenes_che_list[i]:    \n",
    "            for num in range(i*2, n, i): \n",
    "                eratosthenes_che_list[num] = False\n",
    "\n",
    "def solution(n, k, converted_n):\n",
    "    eratosthenes_che_list = [True] * n\n",
    "#     converted_n = JinSuConvert(n,k)\n",
    "    itemList = converted_n.split('0')\n",
    "    makeEratosthenes_che(n, eratosthenes_che_list)\n",
    "    answer = 0\n",
    "    for testNum in itemList:\n",
    "        if testNum != '' and eratosthenes_che_list[int(testNum)]:\n",
    "            answer +=1\n",
    "    return answer\n",
    "\n",
    "def solution(n, k):\n",
    "    eratosthenes_che_list = [True] * n\n",
    "    converted_n = JinSuConvert(n,k)\n",
    "    itemList = converted_n.split('0')\n",
    "    makeEratosthenes_che(n, eratosthenes_che_list)\n",
    "    answer = 0\n",
    "    for testNum in itemList:\n",
    "        try:\n",
    "            if testNum != '' and eratosthenes_che_list[int(testNum)]:\n",
    "                answer +=1\n",
    "        except IndexError:\n",
    "            print('test')\n",
    "            print('error')\n",
    "\n",
    "    return answer"
   ]
  },
  {
   "cell_type": "code",
   "execution_count": 31,
   "id": "11253933",
   "metadata": {},
   "outputs": [
    {
     "name": "stdout",
     "output_type": "stream",
     "text": [
      "error\n"
     ]
    },
    {
     "data": {
      "text/plain": [
       "0"
      ]
     },
     "execution_count": 31,
     "metadata": {},
     "output_type": "execute_result"
    }
   ],
   "source": [
    "solution(1000000,9)"
   ]
  },
  {
   "cell_type": "code",
   "execution_count": 32,
   "id": "421d9bf5",
   "metadata": {},
   "outputs": [
    {
     "data": {
      "text/plain": [
       "0"
      ]
     },
     "execution_count": 32,
     "metadata": {},
     "output_type": "execute_result"
    }
   ],
   "source": [
    "solution(1000000,2)"
   ]
  },
  {
   "cell_type": "code",
   "execution_count": 33,
   "id": "b43bd8ec",
   "metadata": {},
   "outputs": [
    {
     "data": {
      "text/plain": [
       "0"
      ]
     },
     "execution_count": 33,
     "metadata": {},
     "output_type": "execute_result"
    }
   ],
   "source": [
    "import math\n",
    "def JinSuConvert(n, k):\n",
    "    test = ''\n",
    "\n",
    "    while n > 0:\n",
    "        temp = n\n",
    "        n = temp//k\n",
    "        res = temp%k\n",
    "\n",
    "        test = str(res) + test\n",
    "\n",
    "    return test\n",
    "\n",
    "def makeEratosthenes_che(n, eratosthenes_che_list):\n",
    "    eratosthenes_che_list[1] = False\n",
    "    end = int(math.sqrt(n))\n",
    "    for i in range(2, end + 1):\n",
    "        if eratosthenes_che_list[i]:    \n",
    "            for num in range(i*2, n, i): \n",
    "                eratosthenes_che_list[num] = False\n",
    "\n",
    "def solution(n, k, converted_n):\n",
    "    eratosthenes_che_list = [True] * n\n",
    "#     converted_n = JinSuConvert(n,k)\n",
    "    itemList = converted_n.split('0')\n",
    "    makeEratosthenes_che(n, eratosthenes_che_list)\n",
    "    answer = 0\n",
    "    for testNum in itemList:\n",
    "        if testNum != '' and eratosthenes_che_list[int(testNum)]:\n",
    "            answer +=1\n",
    "    return answer\n",
    "\n",
    "def solution(n, k):\n",
    "    eratosthenes_che_list = [True] * 10000000\n",
    "    converted_n = JinSuConvert(n,k)\n",
    "    itemList = converted_n.split('0')\n",
    "    makeEratosthenes_che(10000000, eratosthenes_che_list)\n",
    "    len_eratosthenes_che_list = len(eratosthenes_che_list)\n",
    "    answer = 0\n",
    "    for testNum in itemList:\n",
    "        try:\n",
    "            if testNum != '' and eratosthenes_che_list[int(testNum)]:\n",
    "                answer +=1\n",
    "        except IndexError:\n",
    "            print('test')\n",
    "            print('error')\n",
    "\n",
    "    return answer\n",
    "\n",
    "solution(1000000,9)"
   ]
  },
  {
   "cell_type": "code",
   "execution_count": null,
   "id": "417c283a",
   "metadata": {},
   "outputs": [],
   "source": [
    "import math\n",
    "def JinSuConvert(n, k):\n",
    "    test = ''\n",
    "\n",
    "    while n > 0:\n",
    "        temp = n\n",
    "        n = temp//k\n",
    "        res = temp%k\n",
    "\n",
    "        test = str(res) + test\n",
    "\n",
    "    return test\n",
    "\n",
    "def makeEratosthenes_che(n, eratosthenes_che_list):\n",
    "    eratosthenes_che_list[1] = False\n",
    "    end = int(math.sqrt(n))\n",
    "    for i in range(2, end + 1):\n",
    "        if eratosthenes_che_list[i]:    \n",
    "            for num in range(i*2, n, i): \n",
    "                eratosthenes_che_list[num] = False\n",
    "\n",
    "def solution(n, k, converted_n):\n",
    "    eratosthenes_che_list = [True] * n\n",
    "#     converted_n = JinSuConvert(n,k)\n",
    "    itemList = converted_n.split('0')\n",
    "    makeEratosthenes_che(n, eratosthenes_che_list)\n",
    "    answer = 0\n",
    "    for testNum in itemList:\n",
    "        if testNum != '' and eratosthenes_che_list[int(testNum)]:\n",
    "            answer +=1\n",
    "    return answer\n",
    "\n",
    "def solution(n, k):\n",
    "    eratosthenes_che_list = [True] * 55000000\n",
    "    converted_n = JinSuConvert(n,k)\n",
    "    itemList = converted_n.split('0')\n",
    "    makeEratosthenes_che(55000000, eratosthenes_che_list)\n",
    "    len_eratosthenes_che_list = len(eratosthenes_che_list)\n",
    "    answer = 0\n",
    "    for testNum in itemList:\n",
    "        if testNum != '' and eratosthenes_che_list[int(testNum)]:\n",
    "            answer +=1\n",
    "        # try:\n",
    "        #     if testNum != '' and eratosthenes_che_list[int(testNum)]:\n",
    "        #         answer +=1\n",
    "        # except IndexError:\n",
    "        #     print('test')\n",
    "        #     print('error')\n",
    "\n",
    "    return answer"
   ]
  }
 ],
 "metadata": {
  "kernelspec": {
   "display_name": "Python 3",
   "language": "python",
   "name": "python3"
  },
  "language_info": {
   "codemirror_mode": {
    "name": "ipython",
    "version": 3
   },
   "file_extension": ".py",
   "mimetype": "text/x-python",
   "name": "python",
   "nbconvert_exporter": "python",
   "pygments_lexer": "ipython3",
   "version": "3.8.8"
  }
 },
 "nbformat": 4,
 "nbformat_minor": 5
}
