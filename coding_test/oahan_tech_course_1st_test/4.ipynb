{
 "cells": [
  {
   "cell_type": "code",
   "execution_count": 1,
   "id": "941fa0fc",
   "metadata": {},
   "outputs": [],
   "source": [
    "def solution(s):\n",
    "    answer = []\n",
    "    return answer"
   ]
  },
  {
   "cell_type": "code",
   "execution_count": 19,
   "id": "7a3616ea",
   "metadata": {},
   "outputs": [],
   "source": [
    "s = \"aaabbaaa\""
   ]
  },
  {
   "cell_type": "code",
   "execution_count": 20,
   "id": "cbee8874",
   "metadata": {},
   "outputs": [],
   "source": [
    "sList =list(s)\n",
    "visited = [False] * len(sList)\n",
    "\n",
    "def dfs(origin, index,sList,visited):\n",
    "    total = 1\n",
    "    leftIdx = (len(sList) + (index-1))%len(sList)\n",
    "    rightIdx = (len(sList) + (index+1))%len(sList)\n",
    "    if sList[leftIdx] == origin and visited[leftIdx]==False:\n",
    "        visited[leftIdx] = True;\n",
    "        total += dfs(origin, leftIdx,sList,visited)\n",
    "    if sList[rightIdx] == origin and visited[rightIdx] ==False:\n",
    "        visited[rightIdx] = True;\n",
    "        total += dfs(origin, rightIdx,sList,visited)\n",
    "    return total    \n",
    "\n",
    "answer = []\n",
    "for index in range(len(sList)):\n",
    "#     print(sList[index])\n",
    "    if(visited[index]==False):\n",
    "        visited[index] = True;\n",
    "        origin = sList[index]\n",
    "        answer.append(dfs(origin, index,sList,visited))"
   ]
  },
  {
   "cell_type": "code",
   "execution_count": 23,
   "id": "069eba0a",
   "metadata": {},
   "outputs": [
    {
     "data": {
      "text/plain": [
       "1"
      ]
     },
     "execution_count": 23,
     "metadata": {},
     "output_type": "execute_result"
    }
   ],
   "source": [
    "dfs('a',1,sList,visited)"
   ]
  },
  {
   "cell_type": "code",
   "execution_count": 24,
   "id": "a03ddfa7",
   "metadata": {},
   "outputs": [
    {
     "data": {
      "text/plain": [
       "[6, 2]"
      ]
     },
     "execution_count": 24,
     "metadata": {},
     "output_type": "execute_result"
    }
   ],
   "source": [
    "answer"
   ]
  },
  {
   "cell_type": "code",
   "execution_count": 25,
   "id": "a8cf8647",
   "metadata": {},
   "outputs": [],
   "source": [
    "answer.sort()"
   ]
  },
  {
   "cell_type": "code",
   "execution_count": 26,
   "id": "4b93cd4a",
   "metadata": {},
   "outputs": [
    {
     "data": {
      "text/plain": [
       "[2, 6]"
      ]
     },
     "execution_count": 26,
     "metadata": {},
     "output_type": "execute_result"
    }
   ],
   "source": [
    "answer"
   ]
  },
  {
   "cell_type": "code",
   "execution_count": null,
   "id": "56a05e94",
   "metadata": {},
   "outputs": [],
   "source": []
  }
 ],
 "metadata": {
  "kernelspec": {
   "display_name": "Python 3",
   "language": "python",
   "name": "python3"
  },
  "language_info": {
   "codemirror_mode": {
    "name": "ipython",
    "version": 3
   },
   "file_extension": ".py",
   "mimetype": "text/x-python",
   "name": "python",
   "nbconvert_exporter": "python",
   "pygments_lexer": "ipython3",
   "version": "3.8.8"
  }
 },
 "nbformat": 4,
 "nbformat_minor": 5
}
