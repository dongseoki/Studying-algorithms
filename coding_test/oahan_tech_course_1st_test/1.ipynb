{
 "cells": [
  {
   "cell_type": "code",
   "execution_count": 1,
   "id": "7fb6081c",
   "metadata": {},
   "outputs": [],
   "source": [
    "arr = [2, 1, 3, 1, 2, 1]"
   ]
  },
  {
   "cell_type": "code",
   "execution_count": 4,
   "id": "967853a1",
   "metadata": {},
   "outputs": [],
   "source": [
    "numCntList = [0] * 4\n",
    "\n",
    "for num in arr :\n",
    "    numCntList[num]+=1\n",
    "maxCnt = max(numCntList)\n",
    "maxNum = numCntList.index(max(numCntList))\n",
    "answer = [maxCnt]*3\n",
    "for num in range(1,4):\n",
    "    if num != maxNum:\n",
    "        answer[num-1]-= numCntList[num]\n",
    "    else :\n",
    "        answer[num-1] = 0"
   ]
  },
  {
   "cell_type": "code",
   "execution_count": null,
   "id": "b6b51e2b",
   "metadata": {},
   "outputs": [],
   "source": []
  }
 ],
 "metadata": {
  "kernelspec": {
   "display_name": "Python 3",
   "language": "python",
   "name": "python3"
  },
  "language_info": {
   "codemirror_mode": {
    "name": "ipython",
    "version": 3
   },
   "file_extension": ".py",
   "mimetype": "text/x-python",
   "name": "python",
   "nbconvert_exporter": "python",
   "pygments_lexer": "ipython3",
   "version": "3.8.8"
  }
 },
 "nbformat": 4,
 "nbformat_minor": 5
}
