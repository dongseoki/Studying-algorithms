{
 "cells": [
  {
   "cell_type": "code",
   "execution_count": 1,
   "id": "9739ddd0",
   "metadata": {},
   "outputs": [],
   "source": [
    "def solution(rows, columns):\n",
    "    answer = [[]]\n",
    "    return answer"
   ]
  },
  {
   "cell_type": "code",
   "execution_count": 10,
   "id": "ce2ac4f5",
   "metadata": {},
   "outputs": [],
   "source": [
    "rows=3\n",
    "columns = 4\n",
    "gridMap=[]\n",
    "\n",
    "for item in range(rows):\n",
    "    gridMap.append([0]*columns)\n",
    "\n",
    "# 1현재 위치를 1행 1열로 정하고, 그 위치에 숫자 1을 씁니다.\n",
    "zeroCount = rows * columns\n",
    "r =0\n",
    "c =0\n",
    "gridMap[0][0]= 1\n",
    "recent = gridMap[0][0]\n",
    "while(True):\n",
    "    # 2 r을 현재 위치의 행, c를 현재 위치의 열로 정의합니다.\n",
    "    # 3 만약 격자 내에 0이 쓰인 칸이 없거나, 더 이상 0이 쓰여 있는 칸에 다른 숫자를 쓸 수 없게 된다면 과정을 즉시 종료합니다.\n",
    "    if zeroCount==0:\n",
    "        break\n",
    "\n",
    "    # 4 만약 가장 최근에 쓴 숫자가 짝수라면, r행 c열에서 r+1행 c열로 이동합니다. r = rows라면, 1행으로 이동합니다.\n",
    "    if(recent%2 ==0):\n",
    "        r= (rows+r+1)%rows\n",
    "    # 5 만약 가장 최근에 쓴 숫자가 홀수라면, r행 c열에서 r행 c+1열로 이동합니다. c = columns라면, 1열로 이동합니다.\n",
    "    else :\n",
    "        c= (columns+c+1)%columns\n",
    "\n",
    "    if gridMap[r][c] ==0:\n",
    "        zeroCount-=1\n",
    "    else:\n",
    "#         이미 쓰여져 있는 숫자가, 최근에 쓴 숫자와 속성이 같다면(홀이였는데, 홀)\n",
    "        if (recent-gridMap[r][c])%2 ==0:\n",
    "            break\n",
    "    # 6 도착한 칸에 원래 쓰여 있던 수를 지우고 가장 최근에 쓴 숫자 + 1을 씁니다.\n",
    "    gridMap[r][c]=recent +1\n",
    "    recent=gridMap[r][c]\n",
    "    # 7 2번 과정으로 돌아갑니다."
   ]
  },
  {
   "cell_type": "code",
   "execution_count": 15,
   "id": "d900f5ff",
   "metadata": {},
   "outputs": [
    {
     "data": {
      "text/plain": [
       "[[1, 2, 0, 7], [0, 3, 4, 0], [0, 0, 5, 6]]"
      ]
     },
     "execution_count": 15,
     "metadata": {},
     "output_type": "execute_result"
    }
   ],
   "source": [
    "gridMap"
   ]
  },
  {
   "cell_type": "code",
   "execution_count": null,
   "id": "bfbb12d6",
   "metadata": {},
   "outputs": [],
   "source": []
  }
 ],
 "metadata": {
  "kernelspec": {
   "display_name": "Python 3",
   "language": "python",
   "name": "python3"
  },
  "language_info": {
   "codemirror_mode": {
    "name": "ipython",
    "version": 3
   },
   "file_extension": ".py",
   "mimetype": "text/x-python",
   "name": "python",
   "nbconvert_exporter": "python",
   "pygments_lexer": "ipython3",
   "version": "3.8.8"
  }
 },
 "nbformat": 4,
 "nbformat_minor": 5
}
