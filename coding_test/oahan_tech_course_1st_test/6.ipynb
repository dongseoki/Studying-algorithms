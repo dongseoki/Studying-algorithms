{
 "cells": [
  {
   "cell_type": "code",
   "execution_count": 13,
   "id": "ce4aff12",
   "metadata": {},
   "outputs": [],
   "source": [
    "def makeHH(time12):\n",
    "    if time12[-2]=='P':\n",
    "        return int(time12[:-2])+ 12\n",
    "    else : \n",
    "        return int(time12[:-2])\n",
    "\n",
    "FwayToWork = 9.5\n",
    "FoffWork = makeHH(\"6PM\")\n",
    "MwayToWork = makeHH(\"1PM\")\n",
    "MoffWork = makeHH(\"6PM\")\n",
    "\n",
    "def makeCostTime(plan):\n",
    "    total =0\n",
    "    startTime = makeHH(plan[1])\n",
    "    # 금요일 계산.\n",
    "    if startTime< FoffWork : \n",
    "        total += FoffWork-startTime\n",
    "        if startTime < FwayToWork:\n",
    "            total -= FwayToWork-total\n",
    "    \n",
    "    endTime = makeHH(plan[2])\n",
    "    \n",
    "    # 월요일 계산.\n",
    "    if endTime > MwayToWork:\n",
    "        total+= endTime-MwayToWork\n",
    "        if endTime > MoffWork:\n",
    "            total-=endTime-MoffWork\n",
    "    return total\n",
    "\n",
    "def solution(time, plans):\n",
    "    answer = ''\n",
    "    remainTime=time\n",
    "    travelList=[]\n",
    "    for plan in plans:\n",
    "        costTime = makeCostTime(plan)\n",
    "        if remainTime <costTime:\n",
    "            break\n",
    "        else:\n",
    "            remainTime-=costTime\n",
    "            travelList.append(plan[0])\n",
    "    answer= travelList[-1]\n",
    "    return answer\n",
    "\n",
    "\n",
    "\n",
    "solution(3.5,[ [\"홍콩\", \"11PM\", \"9AM\"], [\"엘에이\", \"3PM\", \"2PM\"] ])"
   ]
  },
  {
   "cell_type": "code",
   "execution_count": 2,
   "id": "f243b557",
   "metadata": {},
   "outputs": [
    {
     "name": "stdout",
     "output_type": "stream",
     "text": [
      "111111aqqqqq\n"
     ]
    }
   ],
   "source": [
    "travelList=['2','asda','111111aqqqqq']\n",
    "print(travelList[-1])"
   ]
  },
  {
   "cell_type": "code",
   "execution_count": 9,
   "id": "79bd28e4",
   "metadata": {},
   "outputs": [
    {
     "data": {
      "text/plain": [
       "18"
      ]
     },
     "execution_count": 9,
     "metadata": {},
     "output_type": "execute_result"
    }
   ],
   "source": [
    "FoffWork"
   ]
  },
  {
   "cell_type": "code",
   "execution_count": 4,
   "id": "8c2d9690",
   "metadata": {},
   "outputs": [],
   "source": []
  },
  {
   "cell_type": "code",
   "execution_count": 6,
   "id": "cf1fe1ae",
   "metadata": {},
   "outputs": [
    {
     "data": {
      "text/plain": [
       "23"
      ]
     },
     "execution_count": 6,
     "metadata": {},
     "output_type": "execute_result"
    }
   ],
   "source": [
    "makeHH(\"11PM\")"
   ]
  },
  {
   "cell_type": "code",
   "execution_count": 7,
   "id": "2e79142b",
   "metadata": {},
   "outputs": [
    {
     "data": {
      "text/plain": [
       "9"
      ]
     },
     "execution_count": 7,
     "metadata": {},
     "output_type": "execute_result"
    }
   ],
   "source": [
    "makeHH(\"9AM\")"
   ]
  },
  {
   "cell_type": "code",
   "execution_count": null,
   "id": "f4f3de5a",
   "metadata": {},
   "outputs": [],
   "source": []
  }
 ],
 "metadata": {
  "kernelspec": {
   "display_name": "Python 3",
   "language": "python",
   "name": "python3"
  },
  "language_info": {
   "codemirror_mode": {
    "name": "ipython",
    "version": 3
   },
   "file_extension": ".py",
   "mimetype": "text/x-python",
   "name": "python",
   "nbconvert_exporter": "python",
   "pygments_lexer": "ipython3",
   "version": "3.8.8"
  }
 },
 "nbformat": 4,
 "nbformat_minor": 5
}
