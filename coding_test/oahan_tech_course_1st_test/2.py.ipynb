{
 "cells": [
  {
   "cell_type": "code",
   "execution_count": 1,
   "id": "ba824f6c",
   "metadata": {},
   "outputs": [],
   "source": [
    "def solution(log):\n",
    "    answer = ''\n",
    "    return answer"
   ]
  },
  {
   "cell_type": "code",
   "execution_count": 2,
   "id": "3966c490",
   "metadata": {},
   "outputs": [],
   "source": [
    "log = [\"08:30\", \"09:00\", \"14:00\", \"16:00\", \"16:01\", \"16:06\", \"16:07\", \"16:11\"]"
   ]
  },
  {
   "cell_type": "code",
   "execution_count": 3,
   "id": "ee200814",
   "metadata": {},
   "outputs": [],
   "source": [
    "estStudyTimeList = []\n",
    "realStudyTimeList = []\n",
    "answer = \"\"\n",
    "\n",
    "def makeMinuteTime(timeStr) :\n",
    "    timeList = timeStr.split(\":\")\n",
    "    return int(timeList[0]) * 60 + int(timeList[1])\n",
    "\n",
    "while len(log)>=2:\n",
    "    endTime = log.pop()\n",
    "    startTime = log.pop()\n",
    "    estStudyTimeList.append(makeMinuteTime(endTime) - makeMinuteTime(startTime))\n",
    "    \n",
    "\n",
    "for estTime in estStudyTimeList:\n",
    "    realTime = 0\n",
    "    if estTime <5:\n",
    "        realTime = 0\n",
    "    elif estTime >=105:\n",
    "        realTime = 105\n",
    "    else:\n",
    "        realTime = estTime\n",
    "    realStudyTimeList.append(realTime)\n",
    "\n",
    "totalTime = 0\n",
    "for realTime in realStudyTimeList:\n",
    "    totalTime += realTime\n",
    "\n",
    "return str(int(totalTime/60)).zfill(2) + \":\"+str(totalTime%60).zfill(2)"
   ]
  },
  {
   "cell_type": "code",
   "execution_count": 13,
   "id": "308469ba",
   "metadata": {},
   "outputs": [
    {
     "data": {
      "text/plain": [
       "2"
      ]
     },
     "execution_count": 13,
     "metadata": {},
     "output_type": "execute_result"
    }
   ],
   "source": [
    "int(totalTime/60)"
   ]
  },
  {
   "cell_type": "code",
   "execution_count": 14,
   "id": "08b47efa",
   "metadata": {},
   "outputs": [
    {
     "data": {
      "text/plain": [
       "'02'"
      ]
     },
     "execution_count": 14,
     "metadata": {},
     "output_type": "execute_result"
    }
   ],
   "source": [
    "str(int(totalTime/60)).zfill(2)"
   ]
  },
  {
   "cell_type": "code",
   "execution_count": 16,
   "id": "92dced25",
   "metadata": {},
   "outputs": [
    {
     "data": {
      "text/plain": [
       "'20'"
      ]
     },
     "execution_count": 16,
     "metadata": {},
     "output_type": "execute_result"
    }
   ],
   "source": [
    "str(totalTime%60).zfill(2)"
   ]
  },
  {
   "cell_type": "code",
   "execution_count": null,
   "id": "c7e23822",
   "metadata": {},
   "outputs": [],
   "source": []
  },
  {
   "cell_type": "code",
   "execution_count": 5,
   "id": "9b2b04e6",
   "metadata": {
    "scrolled": true
   },
   "outputs": [
    {
     "data": {
      "text/plain": [
       "510"
      ]
     },
     "execution_count": 5,
     "metadata": {},
     "output_type": "execute_result"
    }
   ],
   "source": [
    "makeMinuteTime(\"08:30\")"
   ]
  },
  {
   "cell_type": "code",
   "execution_count": 11,
   "id": "f226aa7c",
   "metadata": {},
   "outputs": [
    {
     "data": {
      "text/plain": [
       "140"
      ]
     },
     "execution_count": 11,
     "metadata": {},
     "output_type": "execute_result"
    }
   ],
   "source": [
    "totalTime"
   ]
  },
  {
   "cell_type": "code",
   "execution_count": 12,
   "id": "7c194e1c",
   "metadata": {},
   "outputs": [
    {
     "data": {
      "text/plain": [
       "20"
      ]
     },
     "execution_count": 12,
     "metadata": {},
     "output_type": "execute_result"
    }
   ],
   "source": [
    "totalTime%60"
   ]
  }
 ],
 "metadata": {
  "kernelspec": {
   "display_name": "Python 3",
   "language": "python",
   "name": "python3"
  },
  "language_info": {
   "codemirror_mode": {
    "name": "ipython",
    "version": 3
   },
   "file_extension": ".py",
   "mimetype": "text/x-python",
   "name": "python",
   "nbconvert_exporter": "python",
   "pygments_lexer": "ipython3",
   "version": "3.8.8"
  }
 },
 "nbformat": 4,
 "nbformat_minor": 5
}
