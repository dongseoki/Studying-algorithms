{
 "cells": [
  {
   "cell_type": "code",
   "execution_count": 1,
   "id": "bc9e6661",
   "metadata": {},
   "outputs": [],
   "source": [
    "grid=[\"1\",\"234\",\"56789\"]"
   ]
  },
  {
   "cell_type": "code",
   "execution_count": 6,
   "id": "87f4b68a",
   "metadata": {},
   "outputs": [],
   "source": [
    "clockwise = True"
   ]
  },
  {
   "cell_type": "code",
   "execution_count": 5,
   "id": "0f39abc0",
   "metadata": {},
   "outputs": [
    {
     "data": {
      "text/plain": [
       "list"
      ]
     },
     "execution_count": 5,
     "metadata": {},
     "output_type": "execute_result"
    }
   ],
   "source": [
    "type(grid)"
   ]
  },
  {
   "cell_type": "code",
   "execution_count": 7,
   "id": "3dfd0416",
   "metadata": {},
   "outputs": [],
   "source": [
    "gridMap=[]\n",
    "for item in range(len(grid)):\n",
    "    gridMap.append(['']*(len(grid)*2-1))\n",
    "\n",
    "gridMap\n",
    "\n",
    "# 데이터 넣기.\n",
    "for rowIdx in range(len(grid)):\n",
    "    arrList=list(grid[rowIdx])\n",
    "    startIdx= int((len(gridMap[0])-len(arrList))/2)\n",
    "    for arrIdx in range(len(arrList)):\n",
    "        gridMap[rowIdx][startIdx+arrIdx]=arrList[arrIdx]\n",
    "        \n",
    "\n",
    "\n",
    "gridMap\n",
    "\n",
    "answer=[]\n",
    "if clockwise==True:\n",
    "    ansList=[]\n",
    "    answer.append(gridMap[-1][0])\n",
    "\n",
    "answer\n",
    "\n",
    "lvl =1\n",
    "\n",
    "lvl+=1\n",
    "\n",
    "if lvl >len(grid):\n",
    "    break\n",
    "\n",
    "hr = len(grid)-1\n",
    "hc = 0\n"
   ]
  }
 ],
 "metadata": {
  "kernelspec": {
   "display_name": "Python 3",
   "language": "python",
   "name": "python3"
  },
  "language_info": {
   "codemirror_mode": {
    "name": "ipython",
    "version": 3
   },
   "file_extension": ".py",
   "mimetype": "text/x-python",
   "name": "python",
   "nbconvert_exporter": "python",
   "pygments_lexer": "ipython3",
   "version": "3.8.8"
  }
 },
 "nbformat": 4,
 "nbformat_minor": 5
}
