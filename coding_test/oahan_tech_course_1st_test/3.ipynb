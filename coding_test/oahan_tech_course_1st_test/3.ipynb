{
 "cells": [
  {
   "cell_type": "code",
   "execution_count": 1,
   "id": "f90084a4",
   "metadata": {},
   "outputs": [],
   "source": [
    "def solution(ings, menu, sell):\n",
    "    answer = 0\n",
    "    ings = []\n",
    "    return answer"
   ]
  },
  {
   "cell_type": "code",
   "execution_count": 2,
   "id": "754bd4b1",
   "metadata": {},
   "outputs": [],
   "source": [
    "ings = [\"r 10\", \"a 23\", \"t 124\", \"k 9\"]"
   ]
  },
  {
   "cell_type": "code",
   "execution_count": 3,
   "id": "ebbab698",
   "metadata": {},
   "outputs": [],
   "source": [
    "menu = [\"PIZZA arraak 145\", \"HAMBURGER tkar 180\", \"BREAD kkk 30\", \"ICECREAM rar 50\", \"SHAVEDICE rar 45\", \"JUICE rra 55\", \"WATER a 20\"]"
   ]
  },
  {
   "cell_type": "code",
   "execution_count": 4,
   "id": "f8b275b0",
   "metadata": {},
   "outputs": [],
   "source": [
    "sell = [\"BREAD 5\", \"ICECREAM 100\", \"PIZZA 7\", \"JUICE 10\", \"WATER 1\"]"
   ]
  },
  {
   "cell_type": "code",
   "execution_count": 5,
   "id": "2b328f2c",
   "metadata": {},
   "outputs": [],
   "source": [
    "ingDict = {}\n",
    "\n",
    "for data in ings:\n",
    "    dataList = data.split(\" \")\n",
    "    ingDict[dataList[0]] = int(dataList[1])\n",
    "\n",
    "def makeCost(ingsStr, ingDict):\n",
    "    sum = 0\n",
    "    for ing in list(ingsStr):\n",
    "#         print(ingDict[ing])\n",
    "        sum += ingDict[ing]\n",
    "    return sum\n",
    "\n",
    "menuDict = {}\n",
    "for data in menu:\n",
    "    dataList = data.split(\" \")\n",
    "    menuDict[dataList[0]]={\n",
    "        'ingsStr':dataList[1],\n",
    "        'ingCost':makeCost(dataList[1], ingDict),\n",
    "        'profit':int(dataList[2])\n",
    "    }\n",
    "\n",
    "answer = 0\n",
    "for data in sell:\n",
    "    dataList = data.split(\" \")\n",
    "    answer += (menuDict[dataList[0]]['profit']-menuDict[dataList[0]]['ingCost']) * int(dataList[1])"
   ]
  },
  {
   "cell_type": "code",
   "execution_count": 29,
   "id": "6b017262",
   "metadata": {},
   "outputs": [
    {
     "data": {
      "text/plain": [
       "1161"
      ]
     },
     "execution_count": 29,
     "metadata": {},
     "output_type": "execute_result"
    }
   ],
   "source": [
    "answer"
   ]
  },
  {
   "cell_type": "code",
   "execution_count": null,
   "id": "bcce1e33",
   "metadata": {},
   "outputs": [],
   "source": []
  },
  {
   "cell_type": "code",
   "execution_count": null,
   "id": "a70c72d1",
   "metadata": {},
   "outputs": [],
   "source": []
  },
  {
   "cell_type": "code",
   "execution_count": 11,
   "id": "77df3bb1",
   "metadata": {
    "scrolled": false
   },
   "outputs": [
    {
     "data": {
      "text/plain": [
       "{'r': 10, 'a': 23, 't': 124, 'k': 9}"
      ]
     },
     "execution_count": 11,
     "metadata": {},
     "output_type": "execute_result"
    }
   ],
   "source": [
    "ingDict"
   ]
  },
  {
   "cell_type": "code",
   "execution_count": null,
   "id": "bcd18040",
   "metadata": {},
   "outputs": [],
   "source": []
  },
  {
   "cell_type": "code",
   "execution_count": null,
   "id": "4a3b7807",
   "metadata": {},
   "outputs": [],
   "source": []
  },
  {
   "cell_type": "code",
   "execution_count": null,
   "id": "7413cf37",
   "metadata": {},
   "outputs": [],
   "source": []
  },
  {
   "cell_type": "code",
   "execution_count": 25,
   "id": "4995e31a",
   "metadata": {
    "scrolled": true
   },
   "outputs": [
    {
     "data": {
      "text/plain": [
       "{'PIZZA': {'ingsStr': 'arraak', 'ingCost': 98, 'profit': 145},\n",
       " 'HAMBURGER': {'ingsStr': 'tkar', 'ingCost': 166, 'profit': 180},\n",
       " 'BREAD': {'ingsStr': 'kkk', 'ingCost': 27, 'profit': 30},\n",
       " 'ICECREAM': {'ingsStr': 'rar', 'ingCost': 43, 'profit': 50},\n",
       " 'SHAVEDICE': {'ingsStr': 'rar', 'ingCost': 43, 'profit': 45},\n",
       " 'JUICE': {'ingsStr': 'rra', 'ingCost': 43, 'profit': 55},\n",
       " 'WATER': {'ingsStr': 'a', 'ingCost': 23, 'profit': 20}}"
      ]
     },
     "execution_count": 25,
     "metadata": {},
     "output_type": "execute_result"
    }
   ],
   "source": [
    "menuDict"
   ]
  },
  {
   "cell_type": "code",
   "execution_count": 6,
   "id": "d8d1e665",
   "metadata": {},
   "outputs": [],
   "source": [
    "ingDict['r']= 10"
   ]
  },
  {
   "cell_type": "code",
   "execution_count": 7,
   "id": "a0287145",
   "metadata": {},
   "outputs": [
    {
     "data": {
      "text/plain": [
       "{'r': 10}"
      ]
     },
     "execution_count": 7,
     "metadata": {},
     "output_type": "execute_result"
    }
   ],
   "source": [
    "ingDict"
   ]
  },
  {
   "cell_type": "code",
   "execution_count": 8,
   "id": "215fcc60",
   "metadata": {},
   "outputs": [
    {
     "data": {
      "text/plain": [
       "10"
      ]
     },
     "execution_count": 8,
     "metadata": {},
     "output_type": "execute_result"
    }
   ],
   "source": [
    "ingDict['r']"
   ]
  },
  {
   "cell_type": "code",
   "execution_count": null,
   "id": "d692e6f4",
   "metadata": {},
   "outputs": [],
   "source": [
    "ings = [\"r 10\", \"a 23\", \"t 124\", \"k 9\"]"
   ]
  },
  {
   "cell_type": "code",
   "execution_count": null,
   "id": "9e5b9f34",
   "metadata": {},
   "outputs": [],
   "source": []
  },
  {
   "cell_type": "code",
   "execution_count": 12,
   "id": "3be1b81d",
   "metadata": {},
   "outputs": [
    {
     "data": {
      "text/plain": [
       "['arraak']"
      ]
     },
     "execution_count": 12,
     "metadata": {},
     "output_type": "execute_result"
    }
   ],
   "source": [
    "'arraak'.split()"
   ]
  },
  {
   "cell_type": "code",
   "execution_count": 13,
   "id": "4b80ab5d",
   "metadata": {},
   "outputs": [
    {
     "data": {
      "text/plain": [
       "['a', 'r', 'r', 'a', 'a', 'k']"
      ]
     },
     "execution_count": 13,
     "metadata": {},
     "output_type": "execute_result"
    }
   ],
   "source": [
    "list('arraak')"
   ]
  },
  {
   "cell_type": "code",
   "execution_count": 20,
   "id": "285ec780",
   "metadata": {},
   "outputs": [
    {
     "name": "stdout",
     "output_type": "stream",
     "text": [
      "23\n",
      "10\n",
      "10\n",
      "23\n",
      "23\n",
      "9\n"
     ]
    },
    {
     "data": {
      "text/plain": [
       "98"
      ]
     },
     "execution_count": 20,
     "metadata": {},
     "output_type": "execute_result"
    }
   ],
   "source": [
    "makeCost('arraak',ingDict)"
   ]
  },
  {
   "cell_type": "code",
   "execution_count": 17,
   "id": "cbb4706b",
   "metadata": {},
   "outputs": [
    {
     "data": {
      "text/plain": [
       "{'r': 10, 'a': 23, 't': 124, 'k': 9}"
      ]
     },
     "execution_count": 17,
     "metadata": {},
     "output_type": "execute_result"
    }
   ],
   "source": [
    "ingDict"
   ]
  },
  {
   "cell_type": "code",
   "execution_count": null,
   "id": "be2de598",
   "metadata": {},
   "outputs": [],
   "source": []
  }
 ],
 "metadata": {
  "kernelspec": {
   "display_name": "Python 3",
   "language": "python",
   "name": "python3"
  },
  "language_info": {
   "codemirror_mode": {
    "name": "ipython",
    "version": 3
   },
   "file_extension": ".py",
   "mimetype": "text/x-python",
   "name": "python",
   "nbconvert_exporter": "python",
   "pygments_lexer": "ipython3",
   "version": "3.8.8"
  }
 },
 "nbformat": 4,
 "nbformat_minor": 5
}
