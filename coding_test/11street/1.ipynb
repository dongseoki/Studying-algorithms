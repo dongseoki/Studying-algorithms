{
 "cells": [
  {
   "cell_type": "code",
   "execution_count": 5,
   "id": "a9c0a102",
   "metadata": {},
   "outputs": [],
   "source": [
    "def solution(phone_numbers, phone_owners, number):\n",
    "    try:\n",
    "        resultIdx = phone_numbers.index(number)\n",
    "    except:\n",
    "        return number\n",
    "    return  phone_owners[resultIdx]"
   ]
  },
  {
   "cell_type": "code",
   "execution_count": 6,
   "id": "e0dbe1b8",
   "metadata": {},
   "outputs": [
    {
     "data": {
      "text/plain": [
       "'rick'"
      ]
     },
     "execution_count": 6,
     "metadata": {},
     "output_type": "execute_result"
    }
   ],
   "source": [
    "solution(['1'],['rick'],'1')"
   ]
  },
  {
   "cell_type": "code",
   "execution_count": 7,
   "id": "d8753cd0",
   "metadata": {},
   "outputs": [
    {
     "data": {
      "text/plain": [
       "'2'"
      ]
     },
     "execution_count": 7,
     "metadata": {},
     "output_type": "execute_result"
    }
   ],
   "source": [
    "solution(['1'],['rick'],'2')"
   ]
  },
  {
   "cell_type": "code",
   "execution_count": 8,
   "id": "fd6e642a",
   "metadata": {},
   "outputs": [],
   "source": [
    "# you can write to stdout for debugging purposes, e.g.\n",
    "# print(\"this is a debug message\")\n",
    "\n",
    "def solution(phone_numbers, phone_owners, number):\n",
    "    resultIdx = phone_numbers.find(number)\n",
    "    if resultIdx != -1:\n",
    "        return  phone_owners[resultIdx]\n",
    "    else : \n",
    "        return number"
   ]
  },
  {
   "cell_type": "code",
   "execution_count": null,
   "id": "e0808755",
   "metadata": {},
   "outputs": [],
   "source": [
    "import copy\n"
   ]
  }
 ],
 "metadata": {
  "kernelspec": {
   "display_name": "Python 3",
   "language": "python",
   "name": "python3"
  },
  "language_info": {
   "codemirror_mode": {
    "name": "ipython",
    "version": 3
   },
   "file_extension": ".py",
   "mimetype": "text/x-python",
   "name": "python",
   "nbconvert_exporter": "python",
   "pygments_lexer": "ipython3",
   "version": "3.8.8"
  }
 },
 "nbformat": 4,
 "nbformat_minor": 5
}
