{
 "cells": [
  {
   "cell_type": "code",
   "execution_count": 8,
   "id": "d2870c08",
   "metadata": {},
   "outputs": [],
   "source": [
    "def solution(S):\n",
    "    M = len(S[0])\n",
    "    mapList=[]\n",
    "#     mapList = [{}] * M\n",
    "    for i in range(M):\n",
    "        mapList.append({})\n",
    "    for (pos,testStr) in enumerate(S):\n",
    "        listStr = list(testStr)\n",
    "        for idx in range(M):\n",
    "            try :\n",
    "                data = mapList[idx][testStr[idx]]\n",
    "                return [data, pos, idx]\n",
    "            except:\n",
    "                # 데이터가 없음.\n",
    "                mapList[idx][testStr[idx]] = pos\n",
    "    return []"
   ]
  },
  {
   "cell_type": "code",
   "execution_count": 3,
   "id": "c7c2a030",
   "metadata": {},
   "outputs": [],
   "source": [
    "listStr = list(\"abc\")"
   ]
  },
  {
   "cell_type": "code",
   "execution_count": null,
   "id": "1487166e",
   "metadata": {},
   "outputs": [],
   "source": [
    "listStr"
   ]
  },
  {
   "cell_type": "code",
   "execution_count": 4,
   "id": "4eed92fc",
   "metadata": {},
   "outputs": [],
   "source": [
    "posDict = {'a':0}"
   ]
  },
  {
   "cell_type": "code",
   "execution_count": 5,
   "id": "4b65f4ce",
   "metadata": {},
   "outputs": [
    {
     "data": {
      "text/plain": [
       "0"
      ]
     },
     "execution_count": 5,
     "metadata": {},
     "output_type": "execute_result"
    }
   ],
   "source": [
    "posDict['a']"
   ]
  },
  {
   "cell_type": "code",
   "execution_count": 6,
   "id": "ed57a2fb",
   "metadata": {},
   "outputs": [
    {
     "ename": "KeyError",
     "evalue": "'b'",
     "output_type": "error",
     "traceback": [
      "\u001b[1;31m---------------------------------------------------------------------------\u001b[0m",
      "\u001b[1;31mKeyError\u001b[0m                                  Traceback (most recent call last)",
      "\u001b[1;32m<ipython-input-6-6824611ee648>\u001b[0m in \u001b[0;36m<module>\u001b[1;34m\u001b[0m\n\u001b[1;32m----> 1\u001b[1;33m \u001b[0mposDict\u001b[0m\u001b[1;33m[\u001b[0m\u001b[1;34m'b'\u001b[0m\u001b[1;33m]\u001b[0m\u001b[1;33m\u001b[0m\u001b[1;33m\u001b[0m\u001b[0m\n\u001b[0m",
      "\u001b[1;31mKeyError\u001b[0m: 'b'"
     ]
    }
   ],
   "source": [
    "posDict['b']"
   ]
  },
  {
   "cell_type": "code",
   "execution_count": 7,
   "id": "541335b9",
   "metadata": {},
   "outputs": [
    {
     "data": {
      "text/plain": [
       "[{}, {}, {}, {}, {}, {}]"
      ]
     },
     "execution_count": 7,
     "metadata": {},
     "output_type": "execute_result"
    }
   ],
   "source": [
    "*6"
   ]
  },
  {
   "cell_type": "code",
   "execution_count": 9,
   "id": "0dcd599e",
   "metadata": {},
   "outputs": [],
   "source": [
    "import copy"
   ]
  },
  {
   "cell_type": "code",
   "execution_count": 11,
   "id": "d27af929",
   "metadata": {},
   "outputs": [],
   "source": [
    "test = [copy.deepcopy({})]* 3"
   ]
  },
  {
   "cell_type": "code",
   "execution_count": 12,
   "id": "834d716c",
   "metadata": {},
   "outputs": [],
   "source": [
    "test[0]['a']=3"
   ]
  },
  {
   "cell_type": "code",
   "execution_count": 14,
   "id": "00edca10",
   "metadata": {},
   "outputs": [
    {
     "data": {
      "text/plain": [
       "[{'a': 3}, {'a': 3}, {'a': 3}]"
      ]
     },
     "execution_count": 14,
     "metadata": {},
     "output_type": "execute_result"
    }
   ],
   "source": [
    "test"
   ]
  },
  {
   "cell_type": "code",
   "execution_count": 15,
   "id": "72183ff2",
   "metadata": {},
   "outputs": [
    {
     "data": {
      "text/plain": [
       "3"
      ]
     },
     "execution_count": 15,
     "metadata": {},
     "output_type": "execute_result"
    }
   ],
   "source": [
    "test[1]['a']"
   ]
  },
  {
   "cell_type": "code",
   "execution_count": 16,
   "id": "56b03cfd",
   "metadata": {},
   "outputs": [],
   "source": [
    "test = []"
   ]
  },
  {
   "cell_type": "code",
   "execution_count": 18,
   "id": "d4197a73",
   "metadata": {},
   "outputs": [],
   "source": [
    "for i in range(3):\n",
    "    test.append({})"
   ]
  },
  {
   "cell_type": "code",
   "execution_count": 19,
   "id": "989b5c3a",
   "metadata": {},
   "outputs": [],
   "source": [
    "test[0]['a']=3"
   ]
  },
  {
   "cell_type": "code",
   "execution_count": 20,
   "id": "1e5e076e",
   "metadata": {},
   "outputs": [
    {
     "data": {
      "text/plain": [
       "[{'a': 3}, {}, {}]"
      ]
     },
     "execution_count": 20,
     "metadata": {},
     "output_type": "execute_result"
    }
   ],
   "source": [
    "test"
   ]
  },
  {
   "cell_type": "code",
   "execution_count": null,
   "id": "2f4d2b0c",
   "metadata": {},
   "outputs": [],
   "source": []
  }
 ],
 "metadata": {
  "kernelspec": {
   "display_name": "Python 3",
   "language": "python",
   "name": "python3"
  },
  "language_info": {
   "codemirror_mode": {
    "name": "ipython",
    "version": 3
   },
   "file_extension": ".py",
   "mimetype": "text/x-python",
   "name": "python",
   "nbconvert_exporter": "python",
   "pygments_lexer": "ipython3",
   "version": "3.8.8"
  }
 },
 "nbformat": 4,
 "nbformat_minor": 5
}
