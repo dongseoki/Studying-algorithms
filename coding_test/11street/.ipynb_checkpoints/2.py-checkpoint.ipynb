{
 "cells": [
  {
   "cell_type": "code",
   "execution_count": 8,
   "id": "13b427c2",
   "metadata": {},
   "outputs": [],
   "source": [
    "def solution(S):\n",
    "    M = len(S[0])\n",
    "    mapList = [{}] * M\n",
    "    for (pos,testStr) in enumerate(S):\n",
    "        listStr = list(testStr)\n",
    "        for idx in range(M):\n",
    "            try :\n",
    "                data = mapList[idx][testStr[idx]]\n",
    "                return [data, pos, idx]\n",
    "            except:\n",
    "                # 데이터가 없음.\n",
    "                mapList[idx][testStr[idx]] = pos"
   ]
  },
  {
   "cell_type": "code",
   "execution_count": 3,
   "id": "eb787825",
   "metadata": {},
   "outputs": [],
   "source": [
    "listStr = list(\"abc\")"
   ]
  },
  {
   "cell_type": "code",
   "execution_count": null,
   "id": "e3ba7c50",
   "metadata": {},
   "outputs": [],
   "source": [
    "listStr"
   ]
  },
  {
   "cell_type": "code",
   "execution_count": 4,
   "id": "215d7571",
   "metadata": {},
   "outputs": [],
   "source": [
    "posDict = {'a':0}"
   ]
  },
  {
   "cell_type": "code",
   "execution_count": 5,
   "id": "b717e00c",
   "metadata": {},
   "outputs": [
    {
     "data": {
      "text/plain": [
       "0"
      ]
     },
     "execution_count": 5,
     "metadata": {},
     "output_type": "execute_result"
    }
   ],
   "source": [
    "posDict['a']"
   ]
  },
  {
   "cell_type": "code",
   "execution_count": 6,
   "id": "cb7c2e68",
   "metadata": {},
   "outputs": [
    {
     "ename": "KeyError",
     "evalue": "'b'",
     "output_type": "error",
     "traceback": [
      "\u001b[1;31m---------------------------------------------------------------------------\u001b[0m",
      "\u001b[1;31mKeyError\u001b[0m                                  Traceback (most recent call last)",
      "\u001b[1;32m<ipython-input-6-6824611ee648>\u001b[0m in \u001b[0;36m<module>\u001b[1;34m\u001b[0m\n\u001b[1;32m----> 1\u001b[1;33m \u001b[0mposDict\u001b[0m\u001b[1;33m[\u001b[0m\u001b[1;34m'b'\u001b[0m\u001b[1;33m]\u001b[0m\u001b[1;33m\u001b[0m\u001b[1;33m\u001b[0m\u001b[0m\n\u001b[0m",
      "\u001b[1;31mKeyError\u001b[0m: 'b'"
     ]
    }
   ],
   "source": [
    "posDict['b']"
   ]
  },
  {
   "cell_type": "code",
   "execution_count": 7,
   "id": "1b951a4e",
   "metadata": {},
   "outputs": [
    {
     "data": {
      "text/plain": [
       "[{}, {}, {}, {}, {}, {}]"
      ]
     },
     "execution_count": 7,
     "metadata": {},
     "output_type": "execute_result"
    }
   ],
   "source": [
    "*6"
   ]
  },
  {
   "cell_type": "code",
   "execution_count": null,
   "id": "a5235c37",
   "metadata": {},
   "outputs": [],
   "source": []
  }
 ],
 "metadata": {
  "kernelspec": {
   "display_name": "Python 3",
   "language": "python",
   "name": "python3"
  },
  "language_info": {
   "codemirror_mode": {
    "name": "ipython",
    "version": 3
   },
   "file_extension": ".py",
   "mimetype": "text/x-python",
   "name": "python",
   "nbconvert_exporter": "python",
   "pygments_lexer": "ipython3",
   "version": "3.8.8"
  }
 },
 "nbformat": 4,
 "nbformat_minor": 5
}
