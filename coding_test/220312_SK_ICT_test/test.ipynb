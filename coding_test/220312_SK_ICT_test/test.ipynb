{
 "cells": [
  {
   "cell_type": "code",
   "execution_count": 1,
   "metadata": {},
   "outputs": [
    {
     "name": "stdout",
     "output_type": "stream",
     "text": [
      "2020년 1월\n",
      "2020년 2월\n",
      "2020년 3월\n",
      "2020년 4월\n",
      "2020년 5월\n",
      "2020년 6월\n",
      "2020년 7월\n",
      "2020년 8월\n",
      "2020년 9월\n",
      "2020년 10월\n",
      "2020년 11월\n",
      "2020년 12월\n"
     ]
    }
   ],
   "source": [
    "month = 1\n",
    "while month <= 12:\n",
    "    print(f'2020년 {month}월')\n",
    "    month = month + 1\n",
    "\n",
    "# 출처: https://blockdmask.tistory.com/429 [개발자 지망생]"
   ]
  },
  {
   "cell_type": "code",
   "execution_count": null,
   "metadata": {},
   "outputs": [],
   "source": []
  }
 ],
 "metadata": {
  "interpreter": {
   "hash": "b3ba2566441a7c06988d0923437866b63cedc61552a5af99d1f4fb67d367b25f"
  },
  "kernelspec": {
   "display_name": "Python 3.8.8 ('base')",
   "language": "python",
   "name": "python3"
  },
  "language_info": {
   "codemirror_mode": {
    "name": "ipython",
    "version": 3
   },
   "file_extension": ".py",
   "mimetype": "text/x-python",
   "name": "python",
   "nbconvert_exporter": "python",
   "pygments_lexer": "ipython3",
   "version": "3.8.8"
  },
  "orig_nbformat": 4
 },
 "nbformat": 4,
 "nbformat_minor": 2
}
