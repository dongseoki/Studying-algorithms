{
 "cells": [
  {
   "cell_type": "code",
   "execution_count": 13,
   "metadata": {},
   "outputs": [],
   "source": [
    "import itertools\n",
    "y = [i for i in range(3)] # [0, 1, 2]\n",
    "y_permuatation = itertools.permutations(y, 3)\n"
   ]
  },
  {
   "cell_type": "code",
   "execution_count": 11,
   "metadata": {
    "scrolled": true
   },
   "outputs": [
    {
     "name": "stdout",
     "output_type": "stream",
     "text": [
      "(0, 1, 2)\n",
      "(0, 2, 1)\n",
      "(1, 0, 2)\n",
      "(1, 2, 0)\n",
      "(2, 0, 1)\n",
      "(2, 1, 0)\n"
     ]
    }
   ],
   "source": [
    "for yp in y_permuatation:\n",
    "    print(yp)\n",
    "\n",
    "\n",
    "# 출처: https://sssunho.tistory.com/52 [개발자 Sunho Lee]"
   ]
  },
  {
   "cell_type": "code",
   "execution_count": 14,
   "metadata": {},
   "outputs": [
    {
     "name": "stdout",
     "output_type": "stream",
     "text": [
      "<class 'tuple'>\n",
      "<class 'int'>\n",
      "-----\n",
      "<class 'tuple'>\n",
      "<class 'int'>\n",
      "-----\n",
      "<class 'tuple'>\n",
      "<class 'int'>\n",
      "-----\n",
      "<class 'tuple'>\n",
      "<class 'int'>\n",
      "-----\n",
      "<class 'tuple'>\n",
      "<class 'int'>\n",
      "-----\n",
      "<class 'tuple'>\n",
      "<class 'int'>\n",
      "-----\n"
     ]
    }
   ],
   "source": [
    "for yp in y_permuatation:\n",
    "    print(type(yp))\n",
    "    print(type(yp[0]))\n",
    "    print('-----')"
   ]
  },
  {
   "cell_type": "code",
   "execution_count": 4,
   "metadata": {},
   "outputs": [],
   "source": [
    "import itertools\n",
    "\n",
    "juList=[1,5,10,50,100,500]\n",
    "\n",
    "costsList = []\n",
    "\n",
    "def calculate(money, ip):\n",
    "    result = -1\n",
    "\n",
    "    makeBillCost = 0\n",
    "    makeBillValue = 0\n",
    "    # 들어온 값 순서대로 최대한 채움. greedy하게 채움.\n",
    "    for index in ip:\n",
    "        # 남은 생산 가치내에서 가용한 동전 개수를 계산하고.\n",
    "        money // juList[index]\n",
    "\n",
    "        # 생산 비용 더하고\n",
    "        makeBillCost = money // juList[index] * costsList[index]\n",
    "\n",
    "        # 생산 가치를 그만큼 차감한다.\n",
    "        money = money % juList[index]\n",
    "\n",
    "\n",
    "    # 만약 생산화폐가치를 만족시킬수 있다면(남은돈이 0),\n",
    "    if money == 0 :\n",
    "        # 생산 비용을 반환함.\n",
    "        return makeBillCost\n",
    "    else:\n",
    "        return -1\n",
    "\n",
    "\n",
    "def solution(money, costs):\n",
    "    costsList = costs\n",
    "    answer = 999999\n",
    "\n",
    "#   test\n",
    "    # y = [i for i in range(3)] # [0, 1, 2]\n",
    "    # c_permuatation = itertools.permutations(y, 3)\n",
    "    # for yp in y_permuatation:\n",
    "    #     print(yp)\n",
    "\n",
    "    y = [i for i in range(6)] # [0, 1, 2,3,4,5]\n",
    "    i_permuatation = itertools.permutations(y, len(y))\n",
    "    # costs를 6!로 섞어서 뽑는다.\n",
    "    for ip in i_permuatation:\n",
    "        # print(yp)\n",
    "            # 계산을 해보고\n",
    "        # 오 되네..?\n",
    "        result = calculate(money, ip)\n",
    "        if result != -1 and result<answer:\n",
    "        # 그 값이 asnwer보다 작으면 answer로 저장.\n",
    "            answer = result\n",
    "    return answer"
   ]
  },
  {
   "cell_type": "code",
   "execution_count": null,
   "metadata": {},
   "outputs": [],
   "source": []
  }
 ],
 "metadata": {
  "interpreter": {
   "hash": "b3ba2566441a7c06988d0923437866b63cedc61552a5af99d1f4fb67d367b25f"
  },
  "kernelspec": {
   "display_name": "Python 3",
   "language": "python",
   "name": "python3"
  },
  "language_info": {
   "codemirror_mode": {
    "name": "ipython",
    "version": 3
   },
   "file_extension": ".py",
   "mimetype": "text/x-python",
   "name": "python",
   "nbconvert_exporter": "python",
   "pygments_lexer": "ipython3",
   "version": "3.8.8"
  }
 },
 "nbformat": 4,
 "nbformat_minor": 2
}
