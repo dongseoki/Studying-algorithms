{
 "cells": [
  {
   "cell_type": "code",
   "execution_count": 2,
   "metadata": {},
   "outputs": [
    {
     "ename": "ModuleNotFoundError",
     "evalue": "No module named 'mod2'",
     "output_type": "error",
     "traceback": [
      "\u001b[1;31m---------------------------------------------------------------------------\u001b[0m",
      "\u001b[1;31mModuleNotFoundError\u001b[0m                       Traceback (most recent call last)",
      "\u001b[1;32mc:\\Github\\Studying-algorithms\\programmers\\test.ipynb Cell 1'\u001b[0m in \u001b[0;36m<cell line: 1>\u001b[1;34m()\u001b[0m\n\u001b[1;32m----> <a href='vscode-notebook-cell:/c%3A/Github/Studying-algorithms/programmers/test.ipynb#ch0000000?line=0'>1</a>\u001b[0m \u001b[39mimport\u001b[39;00m \u001b[39mmod2\u001b[39;00m\n",
      "\u001b[1;31mModuleNotFoundError\u001b[0m: No module named 'mod2'"
     ]
    }
   ],
   "source": [
    "import mod2\n"
   ]
  },
  {
   "cell_type": "code",
   "execution_count": 1,
   "metadata": {},
   "outputs": [
    {
     "name": "stdout",
     "output_type": "stream",
     "text": [
      "[('*', '+', '-'), ('*', '-', '+'), ('+', '*', '-'), ('+', '-', '*'), ('-', '*', '+'), ('-', '+', '*')]\n"
     ]
    }
   ],
   "source": [
    "from itertools import permutations\n",
    "a = [\"*\",\"+\",\"-\"]\n",
    "permute = permutations(a,3)\n",
    "print(list(permute))"
   ]
  },
  {
   "cell_type": "code",
   "execution_count": 2,
   "metadata": {},
   "outputs": [
    {
     "ename": "ValueError",
     "evalue": "empty separator",
     "output_type": "error",
     "traceback": [
      "\u001b[1;31m---------------------------------------------------------------------------\u001b[0m",
      "\u001b[1;31mValueError\u001b[0m                                Traceback (most recent call last)",
      "\u001b[1;32m<ipython-input-2-dc47ba97b8c4>\u001b[0m in \u001b[0;36m<module>\u001b[1;34m\u001b[0m\n\u001b[1;32m----> 1\u001b[1;33m \u001b[1;34m\"100-200*300-500+20\"\u001b[0m\u001b[1;33m.\u001b[0m\u001b[0msplit\u001b[0m\u001b[1;33m(\u001b[0m\u001b[1;34m\"\"\u001b[0m\u001b[1;33m)\u001b[0m\u001b[1;33m\u001b[0m\u001b[1;33m\u001b[0m\u001b[0m\n\u001b[0m",
      "\u001b[1;31mValueError\u001b[0m: empty separator"
     ]
    }
   ],
   "source": [
    "\"100-200*300-500+20\".split(\"\")"
   ]
  },
  {
   "cell_type": "code",
   "execution_count": 3,
   "metadata": {},
   "outputs": [
    {
     "name": "stdout",
     "output_type": "stream",
     "text": [
      "['100', '200', '300', '500', '20']\n"
     ]
    }
   ],
   "source": [
    "import re\n",
    "print(re.split('[-+*]', \"100-200*300-500+20\"))"
   ]
  },
  {
   "cell_type": "code",
   "execution_count": 1,
   "metadata": {},
   "outputs": [],
   "source": [
    "import operator"
   ]
  },
  {
   "cell_type": "code",
   "execution_count": 2,
   "metadata": {},
   "outputs": [
    {
     "name": "stdout",
     "output_type": "stream",
     "text": [
      "2\n",
      "24\n"
     ]
    }
   ],
   "source": [
    "import operator\n",
    "ops = { \"+\": operator.add, \"-\": operator.sub, \"*\":operator.mul } # etc.\n",
    "\n",
    "print(ops[\"+\"](1,1)) # prints 2 \n",
    "print(ops[\"*\"](4,6)) # prints 2 "
   ]
  },
  {
   "cell_type": "code",
   "execution_count": 4,
   "metadata": {},
   "outputs": [
    {
     "data": {
      "text/plain": [
       "'atestbtestc'"
      ]
     },
     "execution_count": 4,
     "metadata": {},
     "output_type": "execute_result"
    }
   ],
   "source": [
    "'test'.join(['a','b','c'])"
   ]
  },
  {
   "cell_type": "code",
   "execution_count": 5,
   "metadata": {},
   "outputs": [
    {
     "name": "stdout",
     "output_type": "stream",
     "text": [
      "3\n"
     ]
    }
   ],
   "source": [
    "evalStr = '1+2'\n",
    "print(eval(evalStr))"
   ]
  },
  {
   "cell_type": "code",
   "execution_count": 6,
   "metadata": {},
   "outputs": [
    {
     "name": "stdout",
     "output_type": "stream",
     "text": [
      "1973814716928 1973827101120\n"
     ]
    }
   ],
   "source": [
    "testList = [1,2,3]\n",
    "_testList = testList[:]\n",
    "print(id(testList), id(_testList))"
   ]
  },
  {
   "cell_type": "code",
   "execution_count": 2,
   "metadata": {},
   "outputs": [
    {
     "name": "stdout",
     "output_type": "stream",
     "text": [
      "[([2, -1, 4], [-2, -1, 4]), ([2, -1, 4], [0, -1, 1]), ([2, -1, 4], [5, -8, -12]), ([2, -1, 4], [5, 8, 12]), ([-2, -1, 4], [0, -1, 1]), ([-2, -1, 4], [5, -8, -12]), ([-2, -1, 4], [5, 8, 12]), ([0, -1, 1], [5, -8, -12]), ([0, -1, 1], [5, 8, 12]), ([5, -8, -12], [5, 8, 12])]\n",
      "10\n",
      "[([2, -1, 4],), ([-2, -1, 4],), ([0, -1, 1],), ([5, -8, -12],), ([5, 8, 12],)]\n",
      "[([2, -1, 4], [-2, -1, 4]), ([2, -1, 4], [0, -1, 1]), ([2, -1, 4], [5, -8, -12]), ([2, -1, 4], [5, 8, 12]), ([-2, -1, 4], [0, -1, 1]), ([-2, -1, 4], [5, -8, -12]), ([-2, -1, 4], [5, 8, 12]), ([0, -1, 1], [5, -8, -12]), ([0, -1, 1], [5, 8, 12]), ([5, -8, -12], [5, 8, 12])]\n",
      "[([2, -1, 4], [-2, -1, 4], [0, -1, 1]), ([2, -1, 4], [-2, -1, 4], [5, -8, -12]), ([2, -1, 4], [-2, -1, 4], [5, 8, 12]), ([2, -1, 4], [0, -1, 1], [5, -8, -12]), ([2, -1, 4], [0, -1, 1], [5, 8, 12]), ([2, -1, 4], [5, -8, -12], [5, 8, 12]), ([-2, -1, 4], [0, -1, 1], [5, -8, -12]), ([-2, -1, 4], [0, -1, 1], [5, 8, 12]), ([-2, -1, 4], [5, -8, -12], [5, 8, 12]), ([0, -1, 1], [5, -8, -12], [5, 8, 12])]\n",
      "[([2, -1, 4], [-2, -1, 4], [0, -1, 1], [5, -8, -12]), ([2, -1, 4], [-2, -1, 4], [0, -1, 1], [5, 8, 12]), ([2, -1, 4], [-2, -1, 4], [5, -8, -12], [5, 8, 12]), ([2, -1, 4], [0, -1, 1], [5, -8, -12], [5, 8, 12]), ([-2, -1, 4], [0, -1, 1], [5, -8, -12], [5, 8, 12])]\n",
      "[([2, -1, 4], [-2, -1, 4], [0, -1, 1], [5, -8, -12], [5, 8, 12])]\n"
     ]
    }
   ],
   "source": [
    "from itertools import combinations\n",
    "_list = [[2, -1, 4], [-2, -1, 4], [0, -1, 1], [5, -8, -12], [5, 8, 12]]\n",
    "combi = list(combinations(_list, 2))\n",
    "print(combi)\n",
    "print(len(combi))\n",
    "for i in range(1, len(_list)+1):\n",
    "    print(list(combinations(_list,i)))"
   ]
  },
  {
   "cell_type": "code",
   "execution_count": 3,
   "metadata": {},
   "outputs": [],
   "source": [
    "[A,B,C]=[1,2,3]"
   ]
  },
  {
   "cell_type": "code",
   "execution_count": 4,
   "metadata": {},
   "outputs": [
    {
     "data": {
      "text/plain": [
       "2"
      ]
     },
     "execution_count": 4,
     "metadata": {},
     "output_type": "execute_result"
    }
   ],
   "source": [
    "B"
   ]
  },
  {
   "cell_type": "code",
   "execution_count": 9,
   "metadata": {},
   "outputs": [
    {
     "ename": "SyntaxError",
     "evalue": "invalid syntax (<ipython-input-9-bf925d34cb88>, line 2)",
     "output_type": "error",
     "traceback": [
      "\u001b[1;36m  File \u001b[1;32m\"<ipython-input-9-bf925d34cb88>\"\u001b[1;36m, line \u001b[1;32m2\u001b[0m\n\u001b[1;33m    3.is_integer()\u001b[0m\n\u001b[1;37m      ^\u001b[0m\n\u001b[1;31mSyntaxError\u001b[0m\u001b[1;31m:\u001b[0m invalid syntax\n"
     ]
    }
   ],
   "source": [
    "# import math\n",
    "3.is_integer()"
   ]
  },
  {
   "cell_type": "code",
   "execution_count": 12,
   "metadata": {},
   "outputs": [
    {
     "name": "stdout",
     "output_type": "stream",
     "text": [
      "False\n"
     ]
    }
   ],
   "source": [
    "print(float(2.03).is_integer())"
   ]
  },
  {
   "cell_type": "code",
   "execution_count": 13,
   "metadata": {},
   "outputs": [
    {
     "data": {
      "text/plain": [
       "'ab'"
      ]
     },
     "execution_count": 13,
     "metadata": {},
     "output_type": "execute_result"
    }
   ],
   "source": [
    "\"a\"+\"b\""
   ]
  },
  {
   "cell_type": "code",
   "execution_count": null,
   "metadata": {},
   "outputs": [],
   "source": []
  }
 ],
 "metadata": {
  "interpreter": {
   "hash": "ad2bdc8ecc057115af97d19610ffacc2b4e99fae6737bb82f5d7fb13d2f2c186"
  },
  "kernelspec": {
   "display_name": "Python 3.8.8 ('base')",
   "language": "python",
   "name": "python3"
  },
  "language_info": {
   "codemirror_mode": {
    "name": "ipython",
    "version": 3
   },
   "file_extension": ".py",
   "mimetype": "text/x-python",
   "name": "python",
   "nbconvert_exporter": "python",
   "pygments_lexer": "ipython3",
   "version": "3.8.8"
  },
  "orig_nbformat": 4
 },
 "nbformat": 4,
 "nbformat_minor": 2
}
