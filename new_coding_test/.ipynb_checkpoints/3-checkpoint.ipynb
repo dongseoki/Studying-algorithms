{
 "cells": [
  {
   "cell_type": "code",
   "execution_count": 1,
   "id": "a22209a5",
   "metadata": {},
   "outputs": [],
   "source": [
    "def solution(macaron):\n",
    "    answer = []\n",
    "    macaMap=[]\n",
    "    for item in macaron:\n",
    "        putItOnTop(item, macaMap)\n",
    "        removeEmptySpace(macaMap)\n",
    "        checkAndRemove(macaMap)\n",
    "    return answera"
   ]
  },
  {
   "cell_type": "code",
   "execution_count": null,
   "id": "362ce1a2",
   "metadata": {},
   "outputs": [],
   "source": [
    "def checkAndRemove(macaMap):\n",
    "#     모두 확인 하다가\n",
    "# 있으면\n",
    "#     있는것들을 0으로 만들고\n",
    "#     빈부분 제거하고.\n",
    "#     나를 재귀호출\n",
    "# 그렇지 않다면\n",
    "#     아무것도 안함.\n"
   ]
  },
  {
   "cell_type": "code",
   "execution_count": 4,
   "id": "a7684e2a",
   "metadata": {},
   "outputs": [],
   "source": [
    "macaMap = [[0,0,0,0,0,0] for i in range(6) ]"
   ]
  },
  {
   "cell_type": "code",
   "execution_count": 5,
   "id": "db171370",
   "metadata": {},
   "outputs": [
    {
     "data": {
      "text/plain": [
       "[[0, 0, 0, 0, 0, 0],\n",
       " [0, 0, 0, 0, 0, 0],\n",
       " [0, 0, 0, 0, 0, 0],\n",
       " [0, 0, 0, 0, 0, 0],\n",
       " [0, 0, 0, 0, 0, 0],\n",
       " [0, 0, 0, 0, 0, 0]]"
      ]
     },
     "execution_count": 5,
     "metadata": {},
     "output_type": "execute_result"
    }
   ],
   "source": [
    "macaMap"
   ]
  },
  {
   "cell_type": "code",
   "execution_count": 6,
   "id": "56e6ca17",
   "metadata": {},
   "outputs": [],
   "source": [
    "def putItOnTop(item, macaMap):\n",
    "    macaMap[0][item[0]-1] = item[1]"
   ]
  },
  {
   "cell_type": "code",
   "execution_count": 7,
   "id": "c625d4ff",
   "metadata": {},
   "outputs": [],
   "source": [
    "putItOnTop([1,1],macaMap)"
   ]
  },
  {
   "cell_type": "code",
   "execution_count": 8,
   "id": "5317ba50",
   "metadata": {},
   "outputs": [
    {
     "data": {
      "text/plain": [
       "[[1, 0, 0, 0, 0, 0],\n",
       " [0, 0, 0, 0, 0, 0],\n",
       " [0, 0, 0, 0, 0, 0],\n",
       " [0, 0, 0, 0, 0, 0],\n",
       " [0, 0, 0, 0, 0, 0],\n",
       " [0, 0, 0, 0, 0, 0]]"
      ]
     },
     "execution_count": 8,
     "metadata": {},
     "output_type": "execute_result"
    }
   ],
   "source": [
    "macaMap"
   ]
  },
  {
   "cell_type": "code",
   "execution_count": 18,
   "id": "8913d4dd",
   "metadata": {},
   "outputs": [],
   "source": [
    "def removeEmptySpace(macaMap):\n",
    "    for idx in range(6):\n",
    "        oneColumnList = []\n",
    "        oneColumnList = getOneColumnList(idx, macaMap)\n",
    "        clearOneColumn(idx, macaMap)\n",
    "        putOneColumnList(idx, oneColumnList, macaMap)"
   ]
  },
  {
   "cell_type": "code",
   "execution_count": 20,
   "id": "9acb37e4",
   "metadata": {},
   "outputs": [],
   "source": [
    "removeEmptySpace(macaMap)"
   ]
  },
  {
   "cell_type": "code",
   "execution_count": 21,
   "id": "f5995c47",
   "metadata": {},
   "outputs": [
    {
     "data": {
      "text/plain": [
       "[[0, 0, 0, 0, 0, 0],\n",
       " [0, 0, 0, 0, 0, 0],\n",
       " [0, 0, 0, 0, 0, 0],\n",
       " [0, 0, 0, 0, 0, 0],\n",
       " [0, 0, 0, 0, 0, 0],\n",
       " [1, 0, 0, 0, 0, 0]]"
      ]
     },
     "execution_count": 21,
     "metadata": {},
     "output_type": "execute_result"
    }
   ],
   "source": [
    "macaMap"
   ]
  },
  {
   "cell_type": "code",
   "execution_count": 9,
   "id": "3eb3e234",
   "metadata": {},
   "outputs": [],
   "source": [
    "oneColumnList = []"
   ]
  },
  {
   "cell_type": "code",
   "execution_count": 10,
   "id": "09c69b3a",
   "metadata": {},
   "outputs": [],
   "source": [
    "oneColumnList.append(1)"
   ]
  },
  {
   "cell_type": "code",
   "execution_count": 11,
   "id": "db2a1a41",
   "metadata": {},
   "outputs": [
    {
     "data": {
      "text/plain": [
       "[1]"
      ]
     },
     "execution_count": 11,
     "metadata": {},
     "output_type": "execute_result"
    }
   ],
   "source": [
    "oneColumnList"
   ]
  },
  {
   "cell_type": "code",
   "execution_count": null,
   "id": "65e7954d",
   "metadata": {},
   "outputs": [],
   "source": []
  },
  {
   "cell_type": "code",
   "execution_count": 13,
   "id": "ea542916",
   "metadata": {},
   "outputs": [],
   "source": [
    "\n",
    "def getOneColumnList(idx, macaMap):\n",
    "    oneColumnList = []\n",
    "    for row in macaMap:\n",
    "        if row[idx] != 0:\n",
    "            oneColumnList.append(row[idx])\n",
    "    return oneColumnList"
   ]
  },
  {
   "cell_type": "code",
   "execution_count": 14,
   "id": "1d1d48e4",
   "metadata": {},
   "outputs": [],
   "source": [
    "def clearOneColumn(idx, macaMap):\n",
    "    for row in macaMap:\n",
    "        row[idx] = 0"
   ]
  },
  {
   "cell_type": "code",
   "execution_count": 17,
   "id": "63f0b6f7",
   "metadata": {},
   "outputs": [],
   "source": [
    "def putOneColumnList(idx, oneColumnList, macaMap):\n",
    "    for item in range(len(oneColumnList)-1,-1,-1):\n",
    "        macaMap[6-len(oneColumnList)+item][idx] = oneColumnList[item]"
   ]
  },
  {
   "cell_type": "code",
   "execution_count": 15,
   "id": "96f70265",
   "metadata": {},
   "outputs": [],
   "source": [
    "testLIst = [2,3,4,5,2]"
   ]
  },
  {
   "cell_type": "code",
   "execution_count": 16,
   "id": "d9511c8d",
   "metadata": {},
   "outputs": [
    {
     "name": "stdout",
     "output_type": "stream",
     "text": [
      "4\n",
      "3\n",
      "2\n",
      "1\n",
      "0\n"
     ]
    }
   ],
   "source": [
    "for idx in range(len(testLIst)-1,-1,-1):\n",
    "    print(idx)"
   ]
  },
  {
   "cell_type": "code",
   "execution_count": null,
   "id": "02f4d3e8",
   "metadata": {},
   "outputs": [],
   "source": [
    "def dfs(currentColor, currentCnt, start,end,visited, macaMap):\n",
    "    "
   ]
  }
 ],
 "metadata": {
  "kernelspec": {
   "display_name": "Python 3",
   "language": "python",
   "name": "python3"
  },
  "language_info": {
   "codemirror_mode": {
    "name": "ipython",
    "version": 3
   },
   "file_extension": ".py",
   "mimetype": "text/x-python",
   "name": "python",
   "nbconvert_exporter": "python",
   "pygments_lexer": "ipython3",
   "version": "3.8.8"
  }
 },
 "nbformat": 4,
 "nbformat_minor": 5
}
