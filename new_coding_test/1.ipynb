{
 "cells": [
  {
   "cell_type": "code",
   "execution_count": 1,
   "id": "dd1b9b73",
   "metadata": {},
   "outputs": [],
   "source": [
    "def solution(registered_list, new_id):\n",
    "    answer = ''\n",
    "    test_id = new_id\n",
    "    while True:\n",
    "        if test_id in registered_list:\n",
    "            test_id = setNewId(test_id)\n",
    "        else :\n",
    "            break\n",
    "    answer = test_id\n",
    "    return answer"
   ]
  },
  {
   "cell_type": "code",
   "execution_count": 11,
   "id": "1e799a34",
   "metadata": {},
   "outputs": [
    {
     "data": {
      "text/plain": [
       "True"
      ]
     },
     "execution_count": 11,
     "metadata": {},
     "output_type": "execute_result"
    }
   ],
   "source": [
    "\"cow\" in [\"cow\", \"cow1\", \"cow2\", \"cow3\", \"cow4\", \"cow9\", \"cow8\", \"cow7\", \"cow6\", \"cow5\"]\t"
   ]
  },
  {
   "cell_type": "code",
   "execution_count": 12,
   "id": "824265f6",
   "metadata": {},
   "outputs": [
    {
     "data": {
      "text/plain": [
       "False"
      ]
     },
     "execution_count": 12,
     "metadata": {},
     "output_type": "execute_result"
    }
   ],
   "source": [
    "\"ace15\" in [\"card\", \"ace13\", \"ace16\", \"banker\", \"ace17\", \"ace14\"]\t"
   ]
  },
  {
   "cell_type": "code",
   "execution_count": 35,
   "id": "b115f96d",
   "metadata": {},
   "outputs": [],
   "source": [
    "def setNewId(test_id):\n",
    "    startN = findNStartIndex(test_id)\n",
    "    S = test_id[:startN]\n",
    "    N = test_id[startN:]\n",
    "    if N == '':\n",
    "        N = '0'\n",
    "    N1 = str(int(N)+1)\n",
    "    new_id = S + N1\n",
    "    return N1"
   ]
  },
  {
   "cell_type": "code",
   "execution_count": 28,
   "id": "7ca43145",
   "metadata": {},
   "outputs": [],
   "source": [
    "def findNStartIndex(test_id):\n",
    "    for idx, val in enumerate(test_id):\n",
    "        if val.isdigit() == True:\n",
    "            return idx\n",
    "    return len(test_id)"
   ]
  },
  {
   "cell_type": "code",
   "execution_count": 13,
   "id": "47454ee5",
   "metadata": {},
   "outputs": [],
   "source": [
    "test = \"asdf1234\""
   ]
  },
  {
   "cell_type": "code",
   "execution_count": 29,
   "id": "caae42f3",
   "metadata": {},
   "outputs": [
    {
     "data": {
      "text/plain": [
       "4"
      ]
     },
     "execution_count": 29,
     "metadata": {},
     "output_type": "execute_result"
    }
   ],
   "source": [
    "findNStartIndex(test)"
   ]
  },
  {
   "cell_type": "code",
   "execution_count": 30,
   "id": "43ca1be1",
   "metadata": {
    "scrolled": true
   },
   "outputs": [
    {
     "data": {
      "text/plain": [
       "6"
      ]
     },
     "execution_count": 30,
     "metadata": {},
     "output_type": "execute_result"
    }
   ],
   "source": [
    "findNStartIndex(\"asdfwe\")"
   ]
  },
  {
   "cell_type": "code",
   "execution_count": 31,
   "id": "b37f4f3c",
   "metadata": {
    "scrolled": true
   },
   "outputs": [
    {
     "data": {
      "text/plain": [
       "''"
      ]
     },
     "execution_count": 31,
     "metadata": {},
     "output_type": "execute_result"
    }
   ],
   "source": [
    "\"asdfwe\"[6:]"
   ]
  },
  {
   "cell_type": "code",
   "execution_count": 33,
   "id": "9b12ae3a",
   "metadata": {},
   "outputs": [
    {
     "data": {
      "text/plain": [
       "True"
      ]
     },
     "execution_count": 33,
     "metadata": {},
     "output_type": "execute_result"
    }
   ],
   "source": [
    "\"asdfwe\"[6:] == ''"
   ]
  },
  {
   "cell_type": "code",
   "execution_count": 34,
   "id": "db27cceb",
   "metadata": {},
   "outputs": [
    {
     "data": {
      "text/plain": [
       "False"
      ]
     },
     "execution_count": 34,
     "metadata": {},
     "output_type": "execute_result"
    }
   ],
   "source": [
    "\"a\" == \"\""
   ]
  },
  {
   "cell_type": "code",
   "execution_count": 32,
   "id": "9acee466",
   "metadata": {
    "scrolled": true
   },
   "outputs": [
    {
     "ename": "ValueError",
     "evalue": "invalid literal for int() with base 10: ''",
     "output_type": "error",
     "traceback": [
      "\u001b[1;31m---------------------------------------------------------------------------\u001b[0m",
      "\u001b[1;31mValueError\u001b[0m                                Traceback (most recent call last)",
      "\u001b[1;32m<ipython-input-32-786c805e6f67>\u001b[0m in \u001b[0;36m<module>\u001b[1;34m\u001b[0m\n\u001b[1;32m----> 1\u001b[1;33m \u001b[0mint\u001b[0m\u001b[1;33m(\u001b[0m\u001b[1;34m\"asdfwe\"\u001b[0m\u001b[1;33m[\u001b[0m\u001b[1;36m6\u001b[0m\u001b[1;33m:\u001b[0m\u001b[1;33m]\u001b[0m\u001b[1;33m)\u001b[0m\u001b[1;33m\u001b[0m\u001b[1;33m\u001b[0m\u001b[0m\n\u001b[0m",
      "\u001b[1;31mValueError\u001b[0m: invalid literal for int() with base 10: ''"
     ]
    }
   ],
   "source": [
    "int(\"asdfwe\"[6:])"
   ]
  },
  {
   "cell_type": "code",
   "execution_count": null,
   "id": "3948f64b",
   "metadata": {},
   "outputs": [],
   "source": [
    "findNStartIndex"
   ]
  },
  {
   "cell_type": "code",
   "execution_count": 15,
   "id": "928c2946",
   "metadata": {},
   "outputs": [
    {
     "data": {
      "text/plain": [
       "'asdf'"
      ]
     },
     "execution_count": 15,
     "metadata": {},
     "output_type": "execute_result"
    }
   ],
   "source": [
    "test[:4]"
   ]
  },
  {
   "cell_type": "code",
   "execution_count": 16,
   "id": "e57e8bc0",
   "metadata": {},
   "outputs": [
    {
     "data": {
      "text/plain": [
       "'1234'"
      ]
     },
     "execution_count": 16,
     "metadata": {},
     "output_type": "execute_result"
    }
   ],
   "source": [
    "test[4:]"
   ]
  },
  {
   "cell_type": "code",
   "execution_count": 17,
   "id": "e3a89c0c",
   "metadata": {},
   "outputs": [],
   "source": [
    "test2 = test[4:]"
   ]
  },
  {
   "cell_type": "code",
   "execution_count": 18,
   "id": "e8fb8b48",
   "metadata": {
    "scrolled": true
   },
   "outputs": [
    {
     "data": {
      "text/plain": [
       "1234"
      ]
     },
     "execution_count": 18,
     "metadata": {},
     "output_type": "execute_result"
    }
   ],
   "source": [
    "int(test2)"
   ]
  },
  {
   "cell_type": "code",
   "execution_count": 19,
   "id": "501a0248",
   "metadata": {},
   "outputs": [
    {
     "data": {
      "text/plain": [
       "'1235'"
      ]
     },
     "execution_count": 19,
     "metadata": {},
     "output_type": "execute_result"
    }
   ],
   "source": [
    "str(int(test2) +1)"
   ]
  },
  {
   "cell_type": "code",
   "execution_count": 20,
   "id": "0d9e4a21",
   "metadata": {},
   "outputs": [
    {
     "data": {
      "text/plain": [
       "'a12'"
      ]
     },
     "execution_count": 20,
     "metadata": {},
     "output_type": "execute_result"
    }
   ],
   "source": [
    "'a' + '12'"
   ]
  },
  {
   "cell_type": "code",
   "execution_count": 27,
   "id": "22450b0d",
   "metadata": {
    "scrolled": true
   },
   "outputs": [
    {
     "name": "stdout",
     "output_type": "stream",
     "text": [
      "0 a False\n",
      "1 s False\n",
      "2 d False\n",
      "3 f False\n",
      "4 1 True\n",
      "5 2 True\n",
      "6 3 True\n",
      "7 4 True\n"
     ]
    }
   ],
   "source": [
    "for idx, val in enumerate('asdf1234'):\n",
    "    print(idx, val, val.isdigit())\n",
    "    if val.isdigit() == True:\n",
    "        return idx\n",
    "return len()"
   ]
  },
  {
   "cell_type": "code",
   "execution_count": null,
   "id": "679a7ba3",
   "metadata": {},
   "outputs": [],
   "source": []
  },
  {
   "cell_type": "code",
   "execution_count": null,
   "id": "5f5df2ab",
   "metadata": {},
   "outputs": [],
   "source": []
  }
 ],
 "metadata": {
  "kernelspec": {
   "display_name": "Python 3",
   "language": "python",
   "name": "python3"
  },
  "language_info": {
   "codemirror_mode": {
    "name": "ipython",
    "version": 3
   },
   "file_extension": ".py",
   "mimetype": "text/x-python",
   "name": "python",
   "nbconvert_exporter": "python",
   "pygments_lexer": "ipython3",
   "version": "3.8.8"
  }
 },
 "nbformat": 4,
 "nbformat_minor": 5
}
