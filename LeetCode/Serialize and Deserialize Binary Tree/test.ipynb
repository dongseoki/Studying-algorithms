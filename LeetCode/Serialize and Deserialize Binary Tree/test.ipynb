{
 "cells": [
  {
   "cell_type": "code",
   "execution_count": 40,
   "metadata": {},
   "outputs": [
    {
     "name": "stdout",
     "output_type": "stream",
     "text": [
      "<__main__.TreeNode object at 0x109bb8f10>\n",
      "<__main__.TreeNode object at 0x109bb8f10>\n"
     ]
    }
   ],
   "source": [
    "# Definition for a binary tree node.\n",
    "class TreeNode(object):\n",
    "    def __init__(self, x):\n",
    "        self.val = x\n",
    "        self.left = None\n",
    "        self.right = None\n",
    "import json\n",
    "import copy\n",
    "\n",
    "IMPOSSIBLE_VALUE = -2000\n",
    "\n",
    "class Codec:\n",
    "\n",
    "    def serialize(self, root):\n",
    "        \"\"\"Encodes a tree to a single string.\n",
    "\n",
    "        :type root: TreeNode\n",
    "        :rtype: str\n",
    "        \"\"\"\n",
    "        if root is None:\n",
    "            return None\n",
    "\n",
    "        treeNodeDict = copy.deepcopy(root.__dict__)\n",
    "        treeNodeDict['left'] = self.serialize(treeNodeDict['left'])\n",
    "        treeNodeDict['right'] = self.serialize(treeNodeDict['right'])\n",
    "        return json.dumps(treeNodeDict)\n",
    "\n",
    "    def dictToClass(self, my_dict):\n",
    "        treeNode = TreeNode(IMPOSSIBLE_VALUE)\n",
    "        for key in my_dict:\n",
    "            setattr(treeNode, key, my_dict[key])\n",
    "        return treeNode\n",
    "\n",
    "    def deserialize(self, data):\n",
    "        \"\"\"Decodes your encoded data to tree.\n",
    "\n",
    "        :type data: str\n",
    "        :rtype: TreeNode\n",
    "        \"\"\"\n",
    "        treeNodeDict = json.loads(data)\n",
    "        if treeNodeDict is None:\n",
    "            return None\n",
    "        if treeNodeDict['left'] is not None:\n",
    "            treeNodeDict['left'] = self.deserialize(treeNodeDict['left'])\n",
    "        if treeNodeDict['right'] is not None:\n",
    "            treeNodeDict['right'] = self.deserialize(treeNodeDict['right'])\n",
    "        return self.dictToClass(treeNodeDict)\n",
    "\n",
    "\n",
    "\n",
    "# Your Codec object will be instantiated and called as such:\n",
    "ser = Codec()\n",
    "deser = Codec()\n",
    "root = TreeNode(3)\n",
    "sub1 = TreeNode(2)\n",
    "sub2 = TreeNode(1)\n",
    "root.left= sub1\n",
    "root.right = sub2\n",
    "print(root)\n",
    "ans = deser.deserialize(ser.serialize(root))\n",
    "print(root)"
   ]
  },
  {
   "cell_type": "code",
   "execution_count": 46,
   "metadata": {},
   "outputs": [
    {
     "data": {
      "text/plain": [
       "True"
      ]
     },
     "execution_count": 46,
     "metadata": {},
     "output_type": "execute_result"
    }
   ],
   "source": [
    "ans.left.left is None\n"
   ]
  },
  {
   "cell_type": "code",
   "execution_count": 39,
   "metadata": {},
   "outputs": [
    {
     "data": {
      "text/plain": [
       "'{\"val\": 3, \"left\": \"{\\\\\"val\\\\\": 2, \\\\\"left\\\\\": null, \\\\\"right\\\\\": null}\", \"right\": \"{\\\\\"val\\\\\": 1, \\\\\"left\\\\\": null, \\\\\"right\\\\\": null}\"}'"
      ]
     },
     "execution_count": 39,
     "metadata": {},
     "output_type": "execute_result"
    }
   ],
   "source": [
    "result"
   ]
  },
  {
   "cell_type": "code",
   "execution_count": 26,
   "metadata": {},
   "outputs": [
    {
     "data": {
      "text/plain": [
       "'{\"val\": 2, \"left\": null, \"right\": null}'"
      ]
     },
     "execution_count": 26,
     "metadata": {},
     "output_type": "execute_result"
    }
   ],
   "source": [
    "root.left"
   ]
  },
  {
   "cell_type": "code",
   "execution_count": 28,
   "metadata": {},
   "outputs": [
    {
     "data": {
      "text/plain": [
       "10"
      ]
     },
     "execution_count": 28,
     "metadata": {},
     "output_type": "execute_result"
    }
   ],
   "source": [
    "test = TreeNode(9)\n",
    "test.__dict__['val'] = 10\n",
    "\n",
    "test.val"
   ]
  },
  {
   "cell_type": "code",
   "execution_count": 1,
   "metadata": {},
   "outputs": [],
   "source": [
    "test = {}\n",
    "inputList = ['a', 'b']\n",
    "for inputItem in inputList:\n",
    "    test[inputItem] = {'1':'asdf', '2':'qwer'}"
   ]
  },
  {
   "cell_type": "code",
   "execution_count": 7,
   "metadata": {},
   "outputs": [
    {
     "data": {
      "text/plain": [
       "4396142656"
      ]
     },
     "execution_count": 7,
     "metadata": {},
     "output_type": "execute_result"
    }
   ],
   "source": [
    "id(test['a'])"
   ]
  },
  {
   "cell_type": "code",
   "execution_count": 5,
   "metadata": {},
   "outputs": [
    {
     "data": {
      "text/plain": [
       "4395746048"
      ]
     },
     "execution_count": 5,
     "metadata": {},
     "output_type": "execute_result"
    }
   ],
   "source": [
    "id(test['b'])"
   ]
  },
  {
   "cell_type": "code",
   "execution_count": 6,
   "metadata": {},
   "outputs": [
    {
     "data": {
      "text/plain": [
       "{'a': {'1': 'asdf', '2': 'qwer'}, 'b': {'1': 'asdf', '2': 'qwer'}}"
      ]
     },
     "execution_count": 6,
     "metadata": {},
     "output_type": "execute_result"
    }
   ],
   "source": [
    "test"
   ]
  },
  {
   "cell_type": "code",
   "execution_count": null,
   "metadata": {},
   "outputs": [],
   "source": []
  }
 ],
 "metadata": {
  "kernelspec": {
   "display_name": "Python 3.8.9 64-bit",
   "language": "python",
   "name": "python3"
  },
  "language_info": {
   "codemirror_mode": {
    "name": "ipython",
    "version": 3
   },
   "file_extension": ".py",
   "mimetype": "text/x-python",
   "name": "python",
   "nbconvert_exporter": "python",
   "pygments_lexer": "ipython3",
   "version": "3.8.9"
  },
  "orig_nbformat": 4,
  "vscode": {
   "interpreter": {
    "hash": "31f2aee4e71d21fbe5cf8b01ff0e069b9275f58929596ceb00d14d90e3e16cd6"
   }
  }
 },
 "nbformat": 4,
 "nbformat_minor": 2
}
