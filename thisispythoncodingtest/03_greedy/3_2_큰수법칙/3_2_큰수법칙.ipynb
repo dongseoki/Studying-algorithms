{
 "cells": [
  {
   "cell_type": "markdown",
   "id": "882737b9",
   "metadata": {},
   "source": [
    "# 큰수의 법칙"
   ]
  },
  {
   "cell_type": "markdown",
   "id": "d6becaf8",
   "metadata": {},
   "source": [
    "## 간단한 방법"
   ]
  },
  {
   "cell_type": "code",
   "execution_count": 1,
   "id": "7650eb4e",
   "metadata": {},
   "outputs": [],
   "source": [
    "n, m, k = map(int, input().split())\n",
    "data = list(map(int, input().split()))\n",
    "data.sort(reverse=True)\n",
    "sum = 0\n",
    "count =0\n",
    "cNCount = 0\n",
    "while(True):\n",
    "    if count ==m:\n",
    "        break    \n",
    "\n",
    "    if cNCount == k:\n",
    "        sum += data[1]\n",
    "        cNCount = 0\n",
    "    else :\n",
    "        sum += data[0]        \n",
    "        cNCount +=1\n",
    "    print(sum)\n",
    "    count +=1"
   ]
  },
  {
   "cell_type": "code",
   "execution_count": 10,
   "id": "0c6c3bf4",
   "metadata": {},
   "outputs": [
    {
     "data": {
      "text/plain": [
       "46"
      ]
     },
     "execution_count": 10,
     "metadata": {},
     "output_type": "execute_result"
    }
   ],
   "source": [
    "sum"
   ]
  },
  {
   "cell_type": "markdown",
   "id": "b37ac858",
   "metadata": {},
   "source": [
    "## 다른 방법"
   ]
  },
  {
   "cell_type": "code",
   "execution_count": null,
   "id": "68736f31",
   "metadata": {},
   "outputs": [],
   "source": [
    "#  다른 방법. \n",
    "\n",
    "n, m, k = map(int, input().split())\n",
    "data = list(map(int, input().split()))\n",
    "data.sort(reverse=True)\n",
    "sum = 0\n",
    "count =0\n",
    "cNCount = 0\n",
    "while(True):\n",
    "    if count ==m:\n",
    "        break    \n",
    "\n",
    "    if cNCount == k:\n",
    "        sum += data[1]\n",
    "        cNCount = 0\n",
    "    else :\n",
    "        sum += data[0]        \n",
    "        cNCount +=1\n",
    "    print(sum)\n",
    "    count +=1"
   ]
  }
 ],
 "metadata": {
  "kernelspec": {
   "display_name": "Python 3",
   "language": "python",
   "name": "python3"
  },
  "language_info": {
   "codemirror_mode": {
    "name": "ipython",
    "version": 3
   },
   "file_extension": ".py",
   "mimetype": "text/x-python",
   "name": "python",
   "nbconvert_exporter": "python",
   "pygments_lexer": "ipython3",
   "version": "3.8.8"
  }
 },
 "nbformat": 4,
 "nbformat_minor": 5
}
